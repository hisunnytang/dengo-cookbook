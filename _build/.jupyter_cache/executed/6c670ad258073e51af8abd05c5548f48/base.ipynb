{
 "cells": [
  {
   "cell_type": "code",
   "execution_count": 1,
   "id": "1e155ffe-ebcd-485b-9efb-e8756e049aa8",
   "metadata": {},
   "outputs": [],
   "source": [
    "from dengo.reaction_classes import cooling_action\n",
    "from dengo.chemical_network import cooling_registry\n",
    "\n",
    "# -- reHII --\n",
    "@cooling_action(\"reHII\", \"-reHII * HII * de\")\n",
    "def cool(eq):\n",
    "    @eq.table\n",
    "    def reHII(state):\n",
    "        # (from Hui and Gnedin 1997)\n",
    "        lambdaHI = 2.0 * 157807e0 / state.T\n",
    "        vals = 1.778e-29 * state.T * lambdaHI**1.965 / \\\n",
    "         (1.0e0 + (lambdaHI/0.541)**0.502)**2.697\n",
    "        return vals"
   ]
  },
  {
   "cell_type": "code",
   "execution_count": 2,
   "id": "93928fec-bb9d-4963-bc53-77d78f09c143",
   "metadata": {},
   "outputs": [
    {
     "data": {
      "text/plain": [
       "(<dengo.reaction_classes.CoolingAction at 0x7fe27efceca0>,\n",
       " dengo.reaction_classes.CoolingAction)"
      ]
     },
     "execution_count": 2,
     "metadata": {},
     "output_type": "execute_result"
    }
   ],
   "source": [
    "cooling_registry['reHII'], type(cooling_registry['reHII'])"
   ]
  }
 ],
 "metadata": {
  "kernelspec": {
   "display_name": "Python 3 (ipykernel)",
   "language": "python",
   "name": "python3"
  },
  "language_info": {
   "codemirror_mode": {
    "name": "ipython",
    "version": 3
   },
   "file_extension": ".py",
   "mimetype": "text/x-python",
   "name": "python",
   "nbconvert_exporter": "python",
   "pygments_lexer": "ipython3",
   "version": "3.8.2"
  }
 },
 "nbformat": 4,
 "nbformat_minor": 5
}