{
 "cells": [
  {
   "cell_type": "code",
   "execution_count": 1,
   "id": "d4d581fb-b65b-4c0a-b51e-d4ba820ac778",
   "metadata": {
    "tags": [
     "hide-input"
    ]
   },
   "outputs": [
    {
     "name": "stdout",
     "output_type": "stream",
     "text": [
      "Adding reaction: k01 : 1*H_1 + 1*de => 1*H_2 + 2*de\n",
      "Adding reaction: k02 : 1*H_2 + 1*de => 1*H_1\n"
     ]
    }
   ],
   "source": [
    "import dengo\n",
    "from dengo.chemical_network import \\\n",
    " ChemicalNetwork, \\\n",
    " reaction_registry, \\\n",
    " cooling_registry, species_registry\n",
    "import dengo.primordial_rates\n",
    "import dengo.primordial_cooling\n",
    "\n",
    "dengo.primordial_rates.setup_primordial()\n",
    "\n",
    "simpleNetwork = ChemicalNetwork()\n",
    "simpleNetwork.add_reaction(\"k01\")\n",
    "simpleNetwork.add_reaction(\"k02\")\n",
    "simpleNetwork.add_cooling(\"reHII\")\n",
    "simpleNetwork.init_temperature((1e0, 1e8))"
   ]
  }
 ],
 "metadata": {
  "kernelspec": {
   "display_name": "Python 3 (ipykernel)",
   "language": "python",
   "name": "python3"
  },
  "language_info": {
   "codemirror_mode": {
    "name": "ipython",
    "version": 3
   },
   "file_extension": ".py",
   "mimetype": "text/x-python",
   "name": "python",
   "nbconvert_exporter": "python",
   "pygments_lexer": "ipython3",
   "version": "3.8.2"
  }
 },
 "nbformat": 4,
 "nbformat_minor": 5
}