{
 "cells": [
  {
   "cell_type": "markdown",
   "id": "eeffa868",
   "metadata": {},
   "source": [
    "# How Does Dengo Generate Solvers?\n",
    "\n",
    "This tutorial tells you how the solver are generated with the help of `dengo.ChemicalNetwork`, and `Jinja2`. In short, `dengo.ChemicalNetwork` carries the full information of the chemical reactions and cooling actions of interest. It internally generates the symbolic representation of the dynamics of each chemical species. This can be exported as `C++` or `python` code with a pre-written templates which can be found under `dengo/templates`. In this example we will be demonstrating how to generate rhs and solve the initial value problem with`scipy.odeint`"
   ]
  },
  {
   "cell_type": "markdown",
   "id": "0cedd9dc",
   "metadata": {},
   "source": [
    "# Prey-Predator Model\n",
    "We took the Prey-Predator model as our motivating example. It is also known as [Lotka-Volterra Equations (Wikipedia)](https://en.wikipedia.org/wiki/Lotka%E2%80%93Volterra_equations).\n",
    "It describes the dynamics of the two species (predator and prey) with 2 first order differential equations.\n",
    "$$\n",
    "\\begin{align*}\n",
    "\\frac{dx}{dt} &= \\alpha x - \\beta xy \\\\\n",
    "\\frac{dy}{dt} &= \\delta xy - \\gamma y, \\\\\n",
    "\\end{align*}\n",
    "$$\n",
    "where $x$ is the number of prey, $y$ is the number of predator, $t$ represents time.\n",
    "\n",
    "Taken from wikipedia:\n",
    "![](https://upload.wikimedia.org/wikipedia/commons/thumb/1/16/Lotka_Volterra_dynamics.svg/676px-Lotka_Volterra_dynamics.svg.png)"
   ]
  },
  {
   "cell_type": "markdown",
   "id": "ed8024a4",
   "metadata": {},
   "source": [
    "# Importing Libraries\n"
   ]
  },
  {
   "cell_type": "code",
   "execution_count": 4,
   "id": "30aed638",
   "metadata": {},
   "outputs": [],
   "source": [
    "import numpy as np\n",
    "from dengo.reaction_classes import \\\n",
    " reaction, \\\n",
    " ChemicalSpecies, \\\n",
    " registry_setup, \\\n",
    " species_registry\n",
    "from dengo.chemical_network import ChemicalNetwork\n",
    "import os\n",
    "import pyximport\n",
    "import matplotlib\n",
    "import matplotlib.pyplot as plt\n",
    "import copy\n",
    "import pytest\n",
    "import h5py"
   ]
  },
  {
   "cell_type": "markdown",
   "id": "d5d2b581",
   "metadata": {},
   "source": [
    "## Parameters Setup"
   ]
  },
  {
   "cell_type": "code",
   "execution_count": 62,
   "id": "93aa113c",
   "metadata": {},
   "outputs": [],
   "source": [
    "# parameters for the prey-predator model\n",
    "α = 2./3.\n",
    "β = 4./3.\n",
    "γ = 1.0/2\n",
    "δ = 2.0\n",
    "# initial conditions\n",
    "predator0 = 2.0\n",
    "prey0 = 2.0"
   ]
  },
  {
   "cell_type": "markdown",
   "id": "bf521ebb",
   "metadata": {},
   "source": [
    "## Initialize `ChemicalNetwork`\n",
    "Our **network** consists of 4 species and 4 reactions.\n",
    "\n",
    "### Register the species\n",
    "```python\n",
    "predator = ChemicalSpecies(\"predator\", 1.0)\n",
    "dead_predator = ChemicalSpecies(\"dead_predator\", 1.0)\n",
    "prey = ChemicalSpecies(\"prey\", 1.0)\n",
    "dead_prey = ChemicalSpecies(\"dead_prey\", 1.0)\n",
    "```\n",
    "\n",
    "### Register the reactions\n",
    "\n",
    "$$\n",
    "\\begin{align*}\n",
    "\\rm prey &\\rightarrow \\rm prey + prey\\\\\n",
    "\\rm predator &\\rightarrow \\rm dead \\rm ~ predator \\\\\n",
    "\\rm prey + \\rm predator &\\rightarrow \\rm dead ~ prey + \\rm ~ predator + \\rm ~   \\frac{\\gamma}{\\beta} predator\\\\\n",
    "\\end{align*}\n",
    "$$\n",
    "\n",
    "```python\n",
    "@reaction(\"exp_growth_prey\", [(1, prey), ], [(2, prey), ])\n",
    "def rxn(state):\n",
    "    return α * np.ones_like(state.T)\n",
    "@reaction(\"predation\", [(1, predator), (1, prey)], [\n",
    "       (1, dead_prey), (γ/β + 1, predator)])\n",
    "def rxn(state):\n",
    "    return β * np.ones_like(state.T)\n",
    "@reaction(\n",
    " \"natural_death_predator\", [(1, predator), ],\n",
    " [(1, dead_predator), ])\n",
    "def rxn(state):\n",
    "    return γ * np.ones_like(state.T)\n",
    "```\n",
    "\n",
    "### Adding the reactions to the `ChemicalNetwork`\n",
    "```python\n",
    "cN = ChemicalNetwork()\n",
    "cN.add_reaction(\"exp_growth_prey\")\n",
    "cN.add_reaction(\"predation\")\n",
    "cN.add_reaction(\"natural_death_predator\")\n",
    "```"
   ]
  },
  {
   "cell_type": "code",
   "execution_count": 91,
   "id": "8874c69e",
   "metadata": {},
   "outputs": [],
   "source": [
    "@registry_setup\n",
    "def setup_predator_prey_rates():\n",
    "    predator = ChemicalSpecies(\"predator\", 1.0)\n",
    "    dead_predator = ChemicalSpecies(\"dead_predator\", 1.0)\n",
    "    prey = ChemicalSpecies(\"prey\", 1.0)\n",
    "    dead_prey = ChemicalSpecies(\"dead_prey\", 1.0)\n",
    "\n",
    "    # predator-prey model\n",
    "    @reaction(\"exp_growth_prey\", [(1, prey), ], [(2, prey), ])\n",
    "    def rxn(state):\n",
    "        return α * np.ones_like(state.T)\n",
    "    @reaction(\"predation\", [(1, predator), (1, prey)], [\n",
    "            (1, dead_prey), ((δ/β + 1), predator)])\n",
    "    def rxn(state):\n",
    "        return β*np.ones_like(state.T)\n",
    "    @reaction(\n",
    "     \"natural_death_predator\", [(1, predator), ],\n",
    "     [(1, dead_predator), ])\n",
    "    def rxn(state):\n",
    "        return γ * np.ones_like(state.T)\n",
    "\n",
    "def predator_prey_network():\n",
    "    setup_predator_prey_rates()\n",
    "    cN = ChemicalNetwork()\n",
    "    cN.add_reaction(\"exp_growth_prey\")\n",
    "    cN.add_reaction(\"predation\")\n",
    "    cN.add_reaction(\"natural_death_predator\")\n",
    "\n",
    "    # this shouldnt be compulsory...\n",
    "    cN.init_temperature((1e0, 1e8))\n",
    "    return cN"
   ]
  },
  {
   "cell_type": "code",
   "execution_count": 92,
   "id": "fc8befb1",
   "metadata": {},
   "outputs": [
    {
     "name": "stdout",
     "output_type": "stream",
     "text": [
      "Adding reaction: exp_growth_prey : 1*prey => 2*prey\n",
      "Adding reaction: predation : 1*predator + 1*prey => 1*dead_prey + 2.5*predator\n",
      "Adding reaction: natural_death_predator : 1*predator => 1*dead_predator\n"
     ]
    }
   ],
   "source": [
    "cn = predator_prey_network()"
   ]
  },
  {
   "cell_type": "markdown",
   "id": "c47f6aaf",
   "metadata": {},
   "source": [
    "## Building the solver\n",
    "In this example, we will walk you through how to write a template from scratch that can be fed into a scipy solver. This can be done with `ChemicalNetwork.write_solver` and the combination of templates available under `dengo/templates`.\n",
    "\n",
    "### Evaluate the reaction rates\n",
    "Reaction rates usually have a temperature dependence. For example, for reactions following the (Arrhenius equation)[https://en.wikipedia.org/wiki/Arrhenius_equation] usually have the forms of $$k(T) = A e^{-\\frac{E_a}{RT}}$$, where $k$ is the reaction rate, $E_a$ is the activation energy of the reaction, $T$ is the temperature, $A$, $R$ are the pre-exponential factor, and the universal gas constant respectively. $A$ is sometimes dependent further on temperature in (Modified Arrhenius equation)https://en.wikipedia.org/wiki/Arrhenius_equation#Modified_Arrhenius_equation].\n",
    "\n",
    "Evaluating these rates on the fly would be computationally expensive. One possible way of reducing the computational time is to interpolate from a pre-calculated reaction rates table. The rates are specified when the reactions `rxn` are first created with the `@reaction` decorator. They can be evaluated handily with `rxn.coeff_fn(chemicalnetwork)`. The range of temperature of interest for example $T = \\rm (1, 10^8) K$ can be first specified with `ChemicalNetwork.init_temperature(T_bounds=(1e0, 1e8), n_bins=1024)`. The added reaction objects can be accessed with `ChemicalNetwork.reactions`. For example, the reaction rates of `exp_growth_prey` can the accessed with the snippet below\n",
    "```python\n",
    "rxn_rate = cn.reactions['exp_growth_prey'].coeff_fn(ChemicalNetwork)\n",
    "```\n",
    "The output `rxn_rate` is an numpy array with a length of `[n_bins]`.\n",
    "\n",
    "A reaction rate table is generated and exported to a `hdf5` file below."
   ]
  },
  {
   "cell_type": "code",
   "execution_count": 136,
   "id": "f447692e",
   "metadata": {},
   "outputs": [],
   "source": [
    "solver_name = 'prey_predator_solver'\n",
    "output_dir  = \".\""
   ]
  },
  {
   "cell_type": "code",
   "execution_count": 137,
   "id": "4a690099",
   "metadata": {},
   "outputs": [],
   "source": [
    "ofn = os.path.join(output_dir, f\"{solver_name}_tables.h5\")\n",
    "f = h5py.File(ofn, \"w\")\n",
    "\n",
    "for rxn in sorted(cn.reactions.values()):\n",
    "    f.create_dataset(\n",
    "        f\"/{rxn.name}\", data=rxn.coeff_fn(cn).astype(\"float64\")\n",
    "    )\n",
    "if hasattr(rxn, \"tables\"):\n",
    "    for tab in rxn.tables:\n",
    "        print(rxn.name, tab, rxn)\n",
    "        f.create_dataset(\n",
    "            f\"/{rxn.name}_{tab}\",\n",
    "            data=rxn.tables[tab](self).astype(\"float64\"),\n",
    "        )\n",
    "f.close()"
   ]
  },
  {
   "cell_type": "markdown",
   "id": "84061c2f",
   "metadata": {},
   "source": [
    "### Evaluate the temperature\n",
    "\n",
    "The temperature $T$ as we have seen above is critical to the rate at which the reaction proceeds. The temperature can be evaluated from the internal energy term `ge`. \n",
    "Internal energy of an ideal gas is:\n",
    "$$ E = c_V T = \\frac{nkT}{\\gamma -1}$$\n",
    "For monoatomic gas $\\gamma$ is $5/3$, and diatomic gas $\\gamma$ is $7/5$. $\\gamma$ refers to the adiabatic constant, and it is directly related to the degree of freedom available to the species $f = \\frac{2}{\\gamma -1}$. \n",
    "\n",
    "The total internal energy in the mixture of ideal gas is:\n",
    "$$E = \\sum_s \\frac{n_s kT}{\\gamma_s -1}$$.\n",
    "$T$ can be thus be calculated from $E$ and the abundance of all the avaialble species $n_s$."
   ]
  },
  {
   "cell_type": "markdown",
   "id": "d9ec7607",
   "metadata": {},
   "source": [
    "### The RHS function\n",
    "\n",
    "The dynamics is specified by the set of ODE equations.\n",
    "$$ \\frac{d \\bf y}{dt} = f(\\bf y) $$\n",
    "where $\\bf y$ corresponds to the abundance vector for the species of interest, and $f(\\bf y)$ describes the dynamics.\n",
    "\n",
    "`Dengo` aggreates the reactions specific to each species $s$ with `ChemicalNetwork.species_total(s)` with `sympy` internally. These sympy expression can be exported to various different code style with `sympy.printing` to `C`, `python` for example."
   ]
  },
  {
   "cell_type": "markdown",
   "id": "759be81d",
   "metadata": {},
   "source": [
    "### Ordinary Differential Equation\n",
    "\n",
    "Here we outline the steps needed for a first order backward-euler integration. This is under the umbrella of a wider class of integration methods called implicit methods. \n",
    "\n",
    "> Implicit methods require an extra computation (solving the above equation), and they can be much harder to implement. Implicit methods are used because many problems arising in practice are stiff, for which the use of an explicit method requires impractically small time steps $\\Delta t$ to keep the error in the result bounded (see numerical stability). That said, whether one should use an explicit or implicit method depends upon the problem to be solved.\n",
    ">\n",
    "> [Explicit and implicit methods: Computation](https://en.wikipedia.org/wiki/Explicit_and_implicit_methods) \n",
    "\n",
    "\n",
    "#### Backward Euler Method\n",
    "$$ \n",
    "\\begin{align*}\n",
    "\\frac{d \\bf y}{dt} &= f(\\bf y) \\\\\n",
    "y(t_{i+1}) &\\approx y(t_i) + h f(y_{i+1}) \\\\\n",
    "F(x) &= x - y(t_i) - h f(x)\n",
    "\\end{align*}\n",
    "$$\n",
    "where h is step-size of the integration. The solution of  $F(x) = 0$ gives straightforwardly $y_{i+1}$. The solution to $F(x)$ can be found iteratively by the newtons method\n",
    "$$\n",
    "x_{k+1} = x_k - \\frac{F(x_k)}{F'(x_k)} \\\\\n",
    "F'(x) = 1 - h \\frac{\\partial f}{\\partial x}\n",
    "$$\n",
    "Here $k$ corresponds to the step taken. The iteration is stopped when the difference $|x_{k+1} - x_{k}|$ is less than the given tolerance level. $F'(x)$ is the derivative of the function $F$ and requires the Jacobian."
   ]
  },
  {
   "cell_type": "markdown",
   "id": "8347d1bd",
   "metadata": {},
   "source": [
    "### The Jacobian Function\n",
    "In cases where the set of reactions are stiff to evolve, the backward differentiation formulas and newton's method are often employed in conjunction with to integrate the system. The availability of an exact jacobian is beneficial to solving the stiff system efficiently. Note that this is also optional, as modern solver package could also approximate the jacobian numerically by finite difference. \n",
    "\n",
    "$$J = \\frac{\\partial \\bf f}{ \\partial \\bf y} $$\n",
    "\n",
    "In `Dengo`, the reactions are handled internally through the `sympy` engine. The derivative can be easily obtained from the sympy analytical derivatives `sympy.diff`. \n",
    "\n",
    "```python\n",
    "import sympy\n",
    "x = sympy.symbols('x')\n",
    "xcube = x**3\n",
    "sympy.diff(xcube,x) == 3*x*x\n",
    "```"
   ]
  },
  {
   "cell_type": "code",
   "execution_count": null,
   "id": "a072e81b",
   "metadata": {},
   "outputs": [],
   "source": [
    "def f(state):\n",
    "    \"\"\"RHS function of each chemical species\n",
    "\n",
    "    Parameters\n",
    "    ----------\n",
    "    state : ndarray with shape [NSPECIES + 1, N]\n",
    "    Abundances sorted by name, and the last dimension corresponds to the current check_time\n",
    "\n",
    "    Returns\n",
    "    -------\n",
    "    dy/dt: rate of change of each species\n",
    "    \"\"\"\n",
    "\n",
    "# retreive the species \n",
    "    dead_predator,dead_prey,ge,predator,prey,current_time= state\n",
    "\n",
    "# calculate temperature\n",
    "    T = calculate_temperature(state)\n",
    "    \n",
    "# calculate mass density\n",
    "    mdensity = 1.0*dead_predator + 1.0*dead_prey + 1.0*predator + 1.0*prey*mh;\n",
    "    inv_mdensity = 1/mdensity;\n",
    "        \n",
    "# calculate the h2 optical depth approximation        \n",
    "    h2_optical_depth_approx  = min( 1.0, pow( (mdensity / (1.34e-14) )  , -0.45) );\n",
    "    \n",
    "    tau      = pow( (mdensity / 3.3e-8 ), 2.8);\n",
    "    tau      = max( tau, 1.0e-5 );\n",
    "    cie_optical_depth_approx = min( 1.0, (1.0 - exp(-tau) ) / tau );\n",
    "\n",
    "# interpolate the rates\n",
    "    exp_growth_prey,predation,natural_death_predator, = interpolate_rates(T)\n",
    "\n",
    "    \n",
    "#     = interpolate_cooling_rates(T)\n",
    "\n",
    "# rhs function\n",
    "    \n",
    "    ddead_predator = natural_death_predator[i]*predator*np.ones_like(ge)\n",
    "    ddead_prey = predation[i]*predator*prey*np.ones_like(ge)\n",
    "    dge = 0*np.ones_like(ge)\n",
    "    dpredator = -natural_death_predator[i]*predator + 1.5*predation[i]*predator*prey*np.ones_like(ge)\n",
    "    dprey = exp_growth_prey[i]*prey - predation[i]*predator*prey*np.ones_like(ge) \n",
    "\n",
    "    return np.array([ddead_predator,ddead_prey,dge,dpredator,dprey,0.0*current_time\n",
    "    ])"
   ]
  },
  {
   "cell_type": "code",
   "execution_count": null,
   "id": "f0c118a1",
   "metadata": {},
   "outputs": [],
   "source": [
    "import numpy as np\n",
    "import h5py\n",
    "\n",
    "mh      = 1.67e-24\n",
    "kb      = 1.38e-16\n",
    "gamma   = 5./3.\n",
    "gammaH2_1 = 7./5.\n",
    "gammaH2_2 = 7./5.\n",
    "_gamma_m1 = 1./ (gamma-1.)\n",
    "\n",
    "# read rates in as global variables\n",
    "rates_table = 'reaction_rates.h5'\n",
    "ratef = h5py.File(rates_table, 'r')\n",
    "\n",
    "# Reaction Rates\n",
    "{% for k in network.reactions.keys()%}\n",
    "out{{k}}dev = ratef['{{k}}'][:]\n",
    "{%- endfor %} \n",
    "\n",
    "# Cooling Rates\n",
    "{%- for name, rate in network.cooling_actions | dictsort %}\n",
    "{%- for name2 in rate.tables | sort %}\n",
    "out_{{name}}_{{name2}} = ratef[\"{{name}}_{{name2}}\"][:]\n",
    "{%- endfor %}\n",
    "{%- endfor %}\n",
    "tdev = ratef['T'][:]\n",
    "ratef.close()\n",
    "\n",
    "def interpolate_rates(T):\n",
    "    \"\"\"Interpolate all the reaction rates based on temperature\n",
    "    \"\"\"\n",
    "    {% for k in network.reactions.keys()%}\n",
    "    {{k}} = np.interp(T, tdev, out{{k}}dev)\n",
    "    {%- endfor %} \n",
    "    return (\n",
    "    {%- for k in network.reactions.keys() -%}\n",
    "    {{k}}, \n",
    "    {%- endfor -%}\n",
    "    )\n",
    "def interpolate_cooling_rates(T):\n",
    "    \"\"\"Interpolate all the cooling rates based on temperature\n",
    "    \"\"\"\n",
    "    {%- for name, rate in network.cooling_actions | dictsort %}\n",
    "    {%- for name2 in rate.tables | sort %}\n",
    "    {{name}}_{{name2}} = np.interp(T, tdev, out_{{name}}_{{name2}})\n",
    "    {%- endfor %}\n",
    "    {%- endfor %}\n",
    "    return (\n",
    "    {%- for name, rate in network.cooling_actions | dictsort -%}\n",
    "    {%- for name2 in rate.tables | sort -%}\n",
    "    {{name}}_{{name2}}, \n",
    "    {%- endfor -%}\n",
    "    {%- endfor -%}\n",
    "    )\n",
    "\n",
    "def calculate_temperature(state):\n",
    "    \"\"\"calculate temperature based on the N different input state\n",
    "\n",
    "    Parameters\n",
    "    ----------\n",
    "    state : ndarray with shape [NSPECIES + 1, N]\n",
    "    Abundances sorted by name, and the last dimension corresponds to the current check_time\n",
    "\n",
    "    Returns\n",
    "    -------\n",
    "    Temperature: ndarray\n",
    "\n",
    "    \"\"\"\n",
    "# retreive the species \n",
    "    {% for s in network.required_species | sort -%}\n",
    "    {{s.name}}, \n",
    "    {%- endfor -%}\n",
    "    _= state\n",
    "\n",
    "\n",
    "    density = {{network.print_mass_density()}}\n",
    "\n",
    "    return {{network.temperature_calculation()}}\n",
    "\n",
    "\n",
    "\n",
    "def f(state):\n",
    "    \"\"\"RHS function of each chemical species\n",
    "\n",
    "    Parameters\n",
    "    ----------\n",
    "    state : ndarray with shape [NSPECIES + 1, N]\n",
    "    Abundances sorted by name, and the last dimension corresponds to the current check_time\n",
    "\n",
    "    Returns\n",
    "    -------\n",
    "    dy/dt: rate of change of each species\n",
    "    \"\"\"\n",
    "\n",
    "# retreive the species \n",
    "    {% for s in network.required_species | sort -%}\n",
    "    {{s.name}}, \n",
    "    {%- endfor -%}\n",
    "    current_time= state\n",
    "\n",
    "# calculate temperature\n",
    "    T = calculate_temperature(state)\n",
    "    \n",
    "# calculate mass density\n",
    "    mdensity = {{network.print_mass_density()}}*mh;\n",
    "    inv_mdensity = 1/mdensity;\n",
    "        \n",
    "# calculate the h2 optical depth approximation        \n",
    "    h2_optical_depth_approx  = min( 1.0, pow( (mdensity / (1.34e-14) )  , -0.45) );\n",
    "    \n",
    "    tau      = pow( (mdensity / 3.3e-8 ), 2.8);\n",
    "    tau      = max( tau, 1.0e-5 );\n",
    "    cie_optical_depth_approx = min( 1.0, (1.0 - exp(-tau) ) / tau );\n",
    "\n",
    "# interpolate the rates\n",
    "    {% for k in network.reactions.keys() -%}\n",
    "    {{k}}, \n",
    "    {%- endfor %} = interpolate_rates(T)\n",
    "\n",
    "    \n",
    "    {% for name, rate in network.cooling_actions | dictsort -%}\n",
    "    {%- for name2 in rate.tables | sort -%}\n",
    "    {{name}}_{{name2}}, \n",
    "    {%- endfor -%}\n",
    "    {%- endfor -%} = interpolate_cooling_rates(T)\n",
    "\n",
    "# rhs function\n",
    "    {% for s in network.required_species | sort %}\n",
    "    d{{s.name}} = {{rhs_dict[s]}}*np.ones_like(ge)\n",
    "    {%- endfor %} \n",
    "\n",
    "    return np.array([\n",
    "    {%- for s in network.required_species | sort -%}\n",
    "    d{{s.name}}, \n",
    "    {%- endfor -%}\n",
    "    0.0*current_time\n",
    "    ])"
   ]
  },
  {
   "cell_type": "markdown",
   "id": "0965eaf6",
   "metadata": {},
   "source": [
    "### Jinja2 Template Writer\n",
    "`Jinja2` is a popular templating engine. For example, if we have a \"template\" file as below. \n",
    "\n",
    "```\n",
    "%%writefile solver.py\n",
    "{{name}} had a little {{animal}}\n",
    "```\n",
    "\n"
   ]
  },
  {
   "cell_type": "code",
   "execution_count": 150,
   "id": "107aeb55",
   "metadata": {},
   "outputs": [
    {
     "name": "stdout",
     "output_type": "stream",
     "text": [
      "Overwriting jinja_example.txt\n"
     ]
    }
   ],
   "source": [
    "%%writefile jinja_example.txt\n",
    "{{name}} had a little {{animal}}"
   ]
  },
  {
   "cell_type": "code",
   "execution_count": 148,
   "id": "54219d49",
   "metadata": {},
   "outputs": [
    {
     "data": {
      "text/plain": [
       "True"
      ]
     },
     "execution_count": 148,
     "metadata": {},
     "output_type": "execute_result"
    }
   ],
   "source": [
    "from jinja2 import Environment, FileSystemLoader\n",
    "file_loader = FileSystemLoader(\".\")\n",
    "env = Environment(loader=file_loader)\n",
    "template = env.get_template(\"jinja_example.txt\")"
   ]
  },
  {
   "cell_type": "code",
   "execution_count": 94,
   "id": "cd7c785f",
   "metadata": {},
   "outputs": [
    {
     "data": {
      "text/latex": [
       "$\\displaystyle - natural_{death predator[i]} predator + 1.5 predation[i] predator prey$"
      ],
      "text/plain": [
       "-natural_death_predator[i]*predator + 1.5*predation[i]*predator*prey"
      ]
     },
     "execution_count": 94,
     "metadata": {},
     "output_type": "execute_result"
    }
   ],
   "source": [
    "cn.species_total('predator')"
   ]
  },
  {
   "cell_type": "code",
   "execution_count": 80,
   "id": "ec79942b",
   "metadata": {},
   "outputs": [
    {
     "data": {
      "text/latex": [
       "$\\displaystyle predation[i] predator prey$"
      ],
      "text/plain": [
       "predation[i]*predator*prey"
      ]
     },
     "execution_count": 80,
     "metadata": {},
     "output_type": "execute_result"
    }
   ],
   "source": [
    "cn.species_total('dead_prey')"
   ]
  },
  {
   "cell_type": "code",
   "execution_count": 121,
   "id": "3475f580",
   "metadata": {},
   "outputs": [],
   "source": [
    "from sympy.printing.pycode import pycode"
   ]
  },
  {
   "cell_type": "code",
   "execution_count": 122,
   "id": "a00325fb",
   "metadata": {},
   "outputs": [],
   "source": [
    "rhs_dict = {}\n",
    "for s in cn.required_species:\n",
    "    rhs_dict[s] = pycode(cn.species_total(s))"
   ]
  },
  {
   "cell_type": "code",
   "execution_count": 123,
   "id": "e72b402e",
   "metadata": {},
   "outputs": [
    {
     "data": {
      "text/plain": [
       "{Species: ge: '0',\n",
       " Species: prey: 'exp_growth_prey[i]*prey - predation[i]*predator*prey',\n",
       " Species: predator: '-natural_death_predator[i]*predator + 1.5*predation[i]*predator*prey',\n",
       " Species: dead_predator: 'natural_death_predator[i]*predator',\n",
       " Species: dead_prey: 'predation[i]*predator*prey'}"
      ]
     },
     "execution_count": 123,
     "metadata": {},
     "output_type": "execute_result"
    }
   ],
   "source": []
  },
  {
   "cell_type": "code",
   "execution_count": 124,
   "id": "8c60f1f8",
   "metadata": {},
   "outputs": [],
   "source": [
    "import jinja2"
   ]
  },
  {
   "cell_type": "code",
   "execution_count": 125,
   "id": "51f16672",
   "metadata": {},
   "outputs": [
    {
     "name": "stdout",
     "output_type": "stream",
     "text": [
      "dengo_scipy.py.template\n"
     ]
    }
   ],
   "source": [
    "!ls ~/data/dengo-merge/dengo/templates/scipy"
   ]
  },
  {
   "cell_type": "code",
   "execution_count": 126,
   "id": "75cc301b",
   "metadata": {},
   "outputs": [
    {
     "name": "stdout",
     "output_type": "stream",
     "text": [
      "import numpy as np\n",
      "import h5py\n",
      "\n",
      "mh      = 1.67e-24\n",
      "kb      = 1.38e-16\n",
      "gamma   = 5./3.\n",
      "gammaH2_1 = 7./5.\n",
      "gammaH2_2 = 7./5.\n",
      "_gamma_m1 = 1./ (gamma-1.)\n",
      "\n",
      "# read rates in as global variables\n",
      "rates_table = 'reaction_rates.h5'\n",
      "ratef = h5py.File(rates_table, 'r')\n",
      "\n",
      "# Reaction Rates\n",
      "{% for k in network.reactions.keys()%}\n",
      "out{{k}}dev = ratef['{{k}}'][:]\n",
      "{%- endfor %} \n",
      "\n",
      "# Cooling Rates\n",
      "{%- for name, rate in network.cooling_actions | dictsort %}\n",
      "{%- for name2 in rate.tables | sort %}\n",
      "out_{{name}}_{{name2}} = ratef[\"{{name}}_{{name2}}\"][:]\n",
      "{%- endfor %}\n",
      "{%- endfor %}\n",
      "tdev = ratef['T'][:]\n",
      "ratef.close()\n",
      "\n",
      "def interpolate_rates(T):\n",
      "    \"\"\"Interpolate all the reaction rates based on temperature\n",
      "    \"\"\"\n",
      "    {% for k in network.reactions.keys()%}\n",
      "    {{k}} = np.interp(T, tdev, out{{k}}dev)\n",
      "    {%- endfor %} \n",
      "    return (\n",
      "    {%- for k in network.reactions.keys() -%}\n",
      "    {{k}}, \n",
      "    {%- endfor -%}\n",
      "    )\n",
      "def interpolate_cooling_rates(T):\n",
      "    \"\"\"Interpolate all the cooling rates based on temperature\n",
      "    \"\"\"\n",
      "    {%- for name, rate in network.cooling_actions | dictsort %}\n",
      "    {%- for name2 in rate.tables | sort %}\n",
      "    {{name}}_{{name2}} = np.interp(T, tdev, out_{{name}}_{{name2}})\n",
      "    {%- endfor %}\n",
      "    {%- endfor %}\n",
      "    return (\n",
      "    {%- for name, rate in network.cooling_actions | dictsort -%}\n",
      "    {%- for name2 in rate.tables | sort -%}\n",
      "    {{name}}_{{name2}}, \n",
      "    {%- endfor -%}\n",
      "    {%- endfor -%}\n",
      "    )\n",
      "\n",
      "def calculate_temperature(state):\n",
      "    \"\"\"calculate temperature based on the N different input state\n",
      "\n",
      "    Parameters\n",
      "    ----------\n",
      "    state : ndarray with shape [NSPECIES + 1, N]\n",
      "    Abundances sorted by name, and the last dimension corresponds to the current check_time\n",
      "\n",
      "    Returns\n",
      "    -------\n",
      "    Temperature: ndarray\n",
      "\n",
      "    \"\"\"\n",
      "# retreive the species \n",
      "    {% for s in network.required_species | sort -%}\n",
      "    {{s.name}}, \n",
      "    {%- endfor -%}\n",
      "    _= state\n",
      "\n",
      "\n",
      "    density = {{network.print_mass_density()}}\n",
      "\n",
      "    return {{network.temperature_calculation()}}\n",
      "\n",
      "\n",
      "\n",
      "def f(state):\n",
      "    \"\"\"RHS function of each chemical species\n",
      "\n",
      "    Parameters\n",
      "    ----------\n",
      "    state : ndarray with shape [NSPECIES + 1, N]\n",
      "    Abundances sorted by name, and the last dimension corresponds to the current check_time\n",
      "\n",
      "    Returns\n",
      "    -------\n",
      "    dy/dt: rate of change of each species\n",
      "    \"\"\"\n",
      "\n",
      "# retreive the species \n",
      "    {% for s in network.required_species | sort -%}\n",
      "    {{s.name}}, \n",
      "    {%- endfor -%}\n",
      "    current_time= state\n",
      "\n",
      "# calculate temperature\n",
      "    T = calculate_temperature(state)\n",
      "    \n",
      "# calculate mass density\n",
      "    mdensity = {{network.print_mass_density()}}*mh;\n",
      "    inv_mdensity = 1/mdensity;\n",
      "        \n",
      "# calculate the h2 optical depth approximation        \n",
      "    h2_optical_depth_approx  = min( 1.0, pow( (mdensity / (1.34e-14) )  , -0.45) );\n",
      "    \n",
      "    tau      = pow( (mdensity / 3.3e-8 ), 2.8);\n",
      "    tau      = max( tau, 1.0e-5 );\n",
      "    cie_optical_depth_approx = min( 1.0, (1.0 - exp(-tau) ) / tau );\n",
      "\n",
      "# interpolate the rates\n",
      "    {% for k in network.reactions.keys() -%}\n",
      "    {{k}}, \n",
      "    {%- endfor %} = interpolate_rates(T)\n",
      "\n",
      "    \n",
      "    {% for name, rate in network.cooling_actions | dictsort -%}\n",
      "    {%- for name2 in rate.tables | sort -%}\n",
      "    {{name}}_{{name2}}, \n",
      "    {%- endfor -%}\n",
      "    {%- endfor -%} = interpolate_cooling_rates(T)\n",
      "\n",
      "# rhs function\n",
      "    {% for s in network.required_species | sort %}\n",
      "    d{{s.name}} = {{rhs_dict[s]}}*np.ones_like(ge)\n",
      "    {%- endfor %} \n",
      "\n",
      "    return np.array([\n",
      "    {%- for s in network.required_species | sort -%}\n",
      "    d{{s.name}}, \n",
      "    {%- endfor -%}\n",
      "    0.0*current_time\n",
      "    ])\n",
      "\n",
      "\n",
      "def Jac(state):\n",
      "    \"\"\"Jacobian function of each chemical species\n",
      "\n",
      "    Parameters\n",
      "    ----------\n",
      "    state : ndarray with shape [NSPECIES + 1, N]\n",
      "    Abundances sorted by name, and the last dimension corresponds to the current check_time\n",
      "\n",
      "    Returns\n",
      "    -------\n",
      "    Jacobian Matrix [NSPECIES, NSPECIES]\n",
      "    \"\"\"\n",
      "    jac = np.zeros({{network.required_species | length}}, {{network.required_species | length}})\n",
      "\n",
      "    # retreive the species \n",
      "    {% for s in network.required_species | sort -%}\n",
      "    {{s.name}}, \n",
      "    {%- endfor -%}\n",
      "    current_time= state\n",
      "\n",
      "    # calculate temperature\n",
      "    T = calculate_temperature(state)\n",
      "\n",
      "    # interpolate the rates\n",
      "    {% for k in network.reactions.keys() -%}\n",
      "    {{k}}, \n",
      "    {%- endfor %} = interpolate_rates(T)\n",
      "\n",
      "    \n",
      "    {% for name, rate in network.cooling_actions | dictsort -%}\n",
      "    {%- for name2 in rate.tables | sort -%}\n",
      "    {{name}}_{{name2}}, \n",
      "    {%- endfor -%}\n",
      "    {%- endfor -%} = interpolate_cooling_rates(T)\n",
      "\n",
      "    mdensity = {{network.print_mass_density()}};\n",
      "    inv_mdensity = 1/mdensity;\n",
      "\n",
      "    {%- for s2 in network.ode_species | sort %}\n",
      "    # Species: {{s2.name}}\n",
      "    {% set i_s2 = loop %}\n",
      "    {%- for s1 in network.ode_species | sort %}\n",
      "    {% set i_s1 = loop%}\n",
      "    # {{s2.name}} by {{s1.name}}\n",
      "    {{ network.print_jacobian_component(s2, s1, assign_to=\"jac[{0},{1}]\".format( i_s2.index0, i_s1.index0 ) , print_zeros = True) }}\n",
      "\n",
      "    {%- if s2.name == 'ge' %}\n",
      "    jac[{{i_s2.index0}}, {{i_s1.index0}}] *= inv_mdensity;\n",
      "    {%- endif %}\n",
      "    \n",
      "    {%- if s1.name == 'ge' %}\n",
      "    jac[{{i_s2.index0}}, {{i_s1.index0}}] *= 0.0\n",
      "    {%- endif %}\n",
      "\n",
      "    {%- endfor %}\n",
      "    {%- endfor %}\n",
      "    \n",
      "    return jac\n",
      "\n",
      "\n"
     ]
    }
   ],
   "source": [
    "!cat /mnt/gv0/homes/kwoksun2/dengo-merge/dengo/templates/scipy/dengo_scipy.py.template"
   ]
  },
  {
   "cell_type": "code",
   "execution_count": 104,
   "id": "3acfd6c8",
   "metadata": {},
   "outputs": [],
   "source": [
    "import jinja2\n",
    "\n",
    "templateLoader = jinja2.FileSystemLoader(searchpath=\"/mnt/gv0/homes/kwoksun2/dengo-merge/dengo/templates/scipy\")\n",
    "templateEnv = jinja2.Environment(loader=templateLoader)\n",
    "TEMPLATE_FILE = \"dengo_scipy.py.template\"\n",
    "template = templateEnv.get_template(TEMPLATE_FILE)"
   ]
  },
  {
   "cell_type": "code",
   "execution_count": 127,
   "id": "b6c2fe41",
   "metadata": {},
   "outputs": [],
   "source": [
    "template_vars = dict(\n",
    "             network=cn, solver_name=\"solver_name\", init_values={}, rhs_dict=rhs_dict\n",
    "         )"
   ]
  },
  {
   "cell_type": "code",
   "execution_count": 129,
   "id": "cfab223b",
   "metadata": {},
   "outputs": [],
   "source": [
    "with open('solver.py', 'w') as f:\n",
    "    f.write(template.render(template_vars))"
   ]
  },
  {
   "cell_type": "code",
   "execution_count": 132,
   "id": "a9fa796f",
   "metadata": {},
   "outputs": [
    {
     "ename": "FileNotFoundError",
     "evalue": "[Errno 2] Unable to open file (unable to open file: name = 'reaction_rates.h5', errno = 2, error message = 'No such file or directory', flags = 0, o_flags = 0)",
     "output_type": "error",
     "traceback": [
      "\u001b[0;31m---------------------------------------------------------------------------\u001b[0m",
      "\u001b[0;31mFileNotFoundError\u001b[0m                         Traceback (most recent call last)",
      "Input \u001b[0;32mIn [132]\u001b[0m, in \u001b[0;36m<cell line: 1>\u001b[0;34m()\u001b[0m\n\u001b[0;32m----> 1\u001b[0m \u001b[38;5;28;01mimport\u001b[39;00m \u001b[38;5;21;01msolver\u001b[39;00m\n",
      "File \u001b[0;32m/mnt/gv0/homes/kwoksun2/dengo-merge/cookbook/solver.py:13\u001b[0m, in \u001b[0;36m<module>\u001b[0;34m\u001b[0m\n\u001b[1;32m     11\u001b[0m # read rates in as global variables\n\u001b[1;32m     12\u001b[0m rates_table = 'reaction_rates.h5'\n\u001b[0;32m---> 13\u001b[0m ratef = h5py.File(rates_table, 'r')\n\u001b[1;32m     14\u001b[0m \n\u001b[1;32m     15\u001b[0m # Reaction Rates\n",
      "File \u001b[0;32m~/anaconda3/lib/python3.8/site-packages/h5py/_hl/files.py:507\u001b[0m, in \u001b[0;36mFile.__init__\u001b[0;34m(self, name, mode, driver, libver, userblock_size, swmr, rdcc_nslots, rdcc_nbytes, rdcc_w0, track_order, fs_strategy, fs_persist, fs_threshold, fs_page_size, page_buf_size, min_meta_keep, min_raw_keep, locking, **kwds)\u001b[0m\n\u001b[1;32m    502\u001b[0m     fapl \u001b[38;5;241m=\u001b[39m make_fapl(driver, libver, rdcc_nslots, rdcc_nbytes, rdcc_w0,\n\u001b[1;32m    503\u001b[0m                      locking, page_buf_size, min_meta_keep, min_raw_keep, \u001b[38;5;241m*\u001b[39m\u001b[38;5;241m*\u001b[39mkwds)\n\u001b[1;32m    504\u001b[0m     fcpl \u001b[38;5;241m=\u001b[39m make_fcpl(track_order\u001b[38;5;241m=\u001b[39mtrack_order, fs_strategy\u001b[38;5;241m=\u001b[39mfs_strategy,\n\u001b[1;32m    505\u001b[0m                      fs_persist\u001b[38;5;241m=\u001b[39mfs_persist, fs_threshold\u001b[38;5;241m=\u001b[39mfs_threshold,\n\u001b[1;32m    506\u001b[0m                      fs_page_size\u001b[38;5;241m=\u001b[39mfs_page_size)\n\u001b[0;32m--> 507\u001b[0m     fid \u001b[38;5;241m=\u001b[39m \u001b[43mmake_fid\u001b[49m\u001b[43m(\u001b[49m\u001b[43mname\u001b[49m\u001b[43m,\u001b[49m\u001b[43m \u001b[49m\u001b[43mmode\u001b[49m\u001b[43m,\u001b[49m\u001b[43m \u001b[49m\u001b[43muserblock_size\u001b[49m\u001b[43m,\u001b[49m\u001b[43m \u001b[49m\u001b[43mfapl\u001b[49m\u001b[43m,\u001b[49m\u001b[43m \u001b[49m\u001b[43mfcpl\u001b[49m\u001b[43m,\u001b[49m\u001b[43m \u001b[49m\u001b[43mswmr\u001b[49m\u001b[38;5;241;43m=\u001b[39;49m\u001b[43mswmr\u001b[49m\u001b[43m)\u001b[49m\n\u001b[1;32m    509\u001b[0m \u001b[38;5;28;01mif\u001b[39;00m \u001b[38;5;28misinstance\u001b[39m(libver, \u001b[38;5;28mtuple\u001b[39m):\n\u001b[1;32m    510\u001b[0m     \u001b[38;5;28mself\u001b[39m\u001b[38;5;241m.\u001b[39m_libver \u001b[38;5;241m=\u001b[39m libver\n",
      "File \u001b[0;32m~/anaconda3/lib/python3.8/site-packages/h5py/_hl/files.py:220\u001b[0m, in \u001b[0;36mmake_fid\u001b[0;34m(name, mode, userblock_size, fapl, fcpl, swmr)\u001b[0m\n\u001b[1;32m    218\u001b[0m     \u001b[38;5;28;01mif\u001b[39;00m swmr \u001b[38;5;129;01mand\u001b[39;00m swmr_support:\n\u001b[1;32m    219\u001b[0m         flags \u001b[38;5;241m|\u001b[39m\u001b[38;5;241m=\u001b[39m h5f\u001b[38;5;241m.\u001b[39mACC_SWMR_READ\n\u001b[0;32m--> 220\u001b[0m     fid \u001b[38;5;241m=\u001b[39m \u001b[43mh5f\u001b[49m\u001b[38;5;241;43m.\u001b[39;49m\u001b[43mopen\u001b[49m\u001b[43m(\u001b[49m\u001b[43mname\u001b[49m\u001b[43m,\u001b[49m\u001b[43m \u001b[49m\u001b[43mflags\u001b[49m\u001b[43m,\u001b[49m\u001b[43m \u001b[49m\u001b[43mfapl\u001b[49m\u001b[38;5;241;43m=\u001b[39;49m\u001b[43mfapl\u001b[49m\u001b[43m)\u001b[49m\n\u001b[1;32m    221\u001b[0m \u001b[38;5;28;01melif\u001b[39;00m mode \u001b[38;5;241m==\u001b[39m \u001b[38;5;124m'\u001b[39m\u001b[38;5;124mr+\u001b[39m\u001b[38;5;124m'\u001b[39m:\n\u001b[1;32m    222\u001b[0m     fid \u001b[38;5;241m=\u001b[39m h5f\u001b[38;5;241m.\u001b[39mopen(name, h5f\u001b[38;5;241m.\u001b[39mACC_RDWR, fapl\u001b[38;5;241m=\u001b[39mfapl)\n",
      "File \u001b[0;32mh5py/_objects.pyx:54\u001b[0m, in \u001b[0;36mh5py._objects.with_phil.wrapper\u001b[0;34m()\u001b[0m\n",
      "File \u001b[0;32mh5py/_objects.pyx:55\u001b[0m, in \u001b[0;36mh5py._objects.with_phil.wrapper\u001b[0;34m()\u001b[0m\n",
      "File \u001b[0;32mh5py/h5f.pyx:106\u001b[0m, in \u001b[0;36mh5py.h5f.open\u001b[0;34m()\u001b[0m\n",
      "\u001b[0;31mFileNotFoundError\u001b[0m: [Errno 2] Unable to open file (unable to open file: name = 'reaction_rates.h5', errno = 2, error message = 'No such file or directory', flags = 0, o_flags = 0)"
     ]
    }
   ],
   "source": [
    "import solver"
   ]
  },
  {
   "cell_type": "code",
   "execution_count": 95,
   "id": "a5932749",
   "metadata": {},
   "outputs": [
    {
     "data": {
      "text/plain": [
       "2.0"
      ]
     },
     "execution_count": 95,
     "metadata": {},
     "output_type": "execute_result"
    }
   ],
   "source": [
    "import pyximport\n",
    "import os\n",
    "import numpy as np\n",
    "\n",
    "solver_name = \"test_grackle\"\n",
    "output_dir  = '.'\n",
    "network = dengo_network\n",
    "\n",
    "# specify the library path\n",
    "os.environ[\"HDF5_DIR\"] = \"/home/kwoksun2/anaconda3\"\n",
    "os.environ[\"CVODE_PATH\"] = \"/home/kwoksun2/dengo-merge/cvode-3.1.0/instdir\"\n",
    "os.environ[\"HDF5_PATH\"]  = \"/home/kwoksun2/anaconda3\"\n",
    "os.environ[\"SUITESPARSE_PATH\"] = \"/home/kwoksun2/dengo-merge/suitesparse\"\n",
    "os.environ[\"DENGO_INSTALL_PATH\"] = \"/home/kwoksun2/dengo_install\"\n",
    "\n",
    "# install the library\n",
    "pyximport.install(setup_args={\"include_dirs\": np.get_include()},\n",
    "                  reload_support=True, inplace=True)\n",
    "\n",
    "network.write_solver(solver_name, output_dir=output_dir,\n",
    "                solver_template=\"cv_omp/sundials_CVDls\",\n",
    "                ode_solver_source=\"initialize_cvode_solver.C\")"
   ]
  },
  {
   "cell_type": "code",
   "execution_count": null,
   "id": "ccf3767c",
   "metadata": {},
   "outputs": [],
   "source": []
  }
 ],
 "metadata": {
  "kernelspec": {
   "display_name": "Python 3 (ipykernel)",
   "language": "python",
   "name": "python3"
  },
  "language_info": {
   "codemirror_mode": {
    "name": "ipython",
    "version": 3
   },
   "file_extension": ".py",
   "mimetype": "text/x-python",
   "name": "python",
   "nbconvert_exporter": "python",
   "pygments_lexer": "ipython3",
   "version": "3.8.2"
  }
 },
 "nbformat": 4,
 "nbformat_minor": 5
}
