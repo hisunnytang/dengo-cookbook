{
 "cells": [
  {
   "cell_type": "code",
   "execution_count": 1,
   "metadata": {},
   "outputs": [],
   "source": [
    "# importing necessary libraries\n",
    "import pyximport\n",
    "import numpy as np\n",
    "import os\n",
    "\n",
    "from   dengo.chemistry_constants import tiny, kboltz, mh, G\n",
    "import dengo.primordial_rates\n",
    "import dengo.primordial_cooling\n",
    "\n",
    "from dengo.chemical_network import \\\n",
    "    ChemicalNetwork, \\\n",
    "    reaction_registry, \\\n",
    "    cooling_registry, \\\n",
    "    species_registry\n",
    "import dengo.primordial_rates\n",
    "import dengo.primordial_cooling\n",
    "\n",
    "import sympy\n",
    "from sympy import lambdify\n",
    "import matplotlib.pyplot as plt"
   ]
  },
  {
   "cell_type": "markdown",
   "metadata": {},
   "source": [
    "# Building Dengo Library\n",
    "`Dengo` is primarily a tool to build a solver for chemistry network. In this notebook, we will walk through how to build the C library for usage in hydrodynamical simulations like Enzo and Gamer. In this example, we will use the 9 species primordial chemistry model. And it can be generalized to more complicated chemical network"
   ]
  },
  {
   "cell_type": "code",
   "execution_count": 2,
   "metadata": {},
   "outputs": [
    {
     "name": "stdout",
     "output_type": "stream",
     "text": [
      "ADDED {'us_H_1'}\n",
      "ADDED {'us_H2_1'}\n",
      "ADDED {'us_e_0'}\n",
      "{'us_H_1': array([0.01]), 'us_H2_1': array([0.01]), 'us_e_0': array([0.])}\n",
      "{'us_H_1': array([0.01]), 'us_H2_1': array([0.02]), 'us_e_0': array([0.]), 'ge': array([8.26347305e+10]), 'density': array([0.03]), 'T': array([1000.])}\n"
     ]
    },
    {
     "name": "stdout",
     "output_type": "stream",
     "text": [
      "You have suitesparse!\n"
     ]
    },
    {
     "name": "stderr",
     "output_type": "stream",
     "text": [
      "/home/kwoksun2/anaconda3/lib/python3.8/site-packages/Cython/Compiler/Main.py:369: FutureWarning: Cython directive 'language_level' not set, using 2 for now (Py2). This will change in a later release! File: /mnt/gv0/homes/kwoksun2/dengo-merge/cookbook/umist_solver_run.pxd\n",
      "  tree = Parsing.p_module(s, pxd, full_module_name)\n"
     ]
    },
    {
     "name": "stderr",
     "output_type": "stream",
     "text": [
      "cc1plus: warning: command line option '-Wstrict-prototypes' is valid for C/ObjC but not for C++\n"
     ]
    },
    {
     "name": "stderr",
     "output_type": "stream",
     "text": [
      "cc1plus: warning: command line option '-Wstrict-prototypes' is valid for C/ObjC but not for C++\n",
      "cc1plus: warning: command line option '-Wstrict-prototypes' is valid for C/ObjC but not for C++\n"
     ]
    },
    {
     "name": "stderr",
     "output_type": "stream",
     "text": [
      "\n",
      "[CVODE ERROR]  CVode\n",
      "  At t = 0 and h = 1.3093e-09, the corrector convergence test failed repeatedly or with |h| = hmin.\n",
      "\n",
      "\n",
      "[CVODE ERROR]  CVode\n",
      "  tout too close to t0 to start integration.\n",
      "\n",
      "\n",
      "[CVODE ERROR]  CVode\n",
      "  tout too close to t0 to start integration.\n",
      "\n",
      "\n",
      "[CVODE ERROR]  CVode\n",
      "  tout too close to t0 to start integration.\n",
      "\n",
      "\n",
      "[CVODE ERROR]  CVode\n",
      "  tout too close to t0 to start integration.\n",
      "\n",
      "\n",
      "[CVODE ERROR]  CVode\n",
      "  tout too close to t0 to start integration.\n",
      "\n",
      "\n",
      "[CVODE ERROR]  CVode\n",
      "  tout too close to t0 to start integration.\n",
      "\n",
      "\n",
      "[CVODE ERROR]  CVode\n",
      "  tout too close to t0 to start integration.\n",
      "\n",
      "\n",
      "[CVODE ERROR]  CVode\n",
      "  tout too close to t0 to start integration.\n",
      "\n",
      "\n",
      "[CVODE ERROR]  CVode\n",
      "  tout too close to t0 to start integration.\n",
      "\n",
      "\n",
      "[CVODE ERROR]  CVode\n",
      "  tout too close to t0 to start integration.\n",
      "\n",
      "\n",
      "[CVODE ERROR]  CVode\n",
      "  At t = 0 and h = 6.54651e-10, the corrector convergence test failed repeatedly or with |h| = hmin.\n",
      "\n",
      "\n",
      "[CVODE ERROR]  CVode\n",
      "  tout too close to t0 to start integration.\n",
      "\n",
      "\n",
      "[CVODE ERROR]  CVode\n",
      "  tout too close to t0 to start integration.\n",
      "\n",
      "\n",
      "[CVODE ERROR]  CVode\n",
      "  tout too close to t0 to start integration.\n",
      "\n",
      "\n",
      "[CVODE ERROR]  CVode\n",
      "  tout too close to t0 to start integration.\n",
      "\n",
      "\n",
      "[CVODE ERROR]  CVode\n",
      "  tout too close to t0 to start integration.\n",
      "\n",
      "\n",
      "[CVODE ERROR]  CVode\n",
      "  tout too close to t0 to start integration.\n",
      "\n",
      "\n",
      "[CVODE ERROR]  CVode\n",
      "  tout too close to t0 to start integration.\n",
      "\n",
      "\n",
      "[CVODE ERROR]  CVode\n",
      "  tout too close to t0 to start integration.\n",
      "\n",
      "\n",
      "[CVODE ERROR]  CVode\n",
      "  tout too close to t0 to start integration.\n",
      "\n",
      "\n",
      "[CVODE ERROR]  CVode\n",
      "  tout too close to t0 to start integration.\n",
      "\n",
      "\n",
      "[CVODE ERROR]  CVode\n",
      "  At t = 0 and h = 3.27326e-10, the corrector convergence test failed repeatedly or with |h| = hmin.\n",
      "\n",
      "\n",
      "[CVODE ERROR]  CVode\n",
      "  tout too close to t0 to start integration.\n",
      "\n",
      "\n",
      "[CVODE ERROR]  CVode\n",
      "  tout too close to t0 to start integration.\n",
      "\n",
      "\n",
      "[CVODE ERROR]  CVode\n",
      "  tout too close to t0 to start integration.\n",
      "\n",
      "\n",
      "[CVODE ERROR]  CVode\n",
      "  tout too close to t0 to start integration.\n",
      "\n",
      "\n",
      "[CVODE ERROR]  CVode\n",
      "  tout too close to t0 to start integration.\n",
      "\n",
      "\n",
      "[CVODE ERROR]  CVode\n",
      "  tout too close to t0 to start integration.\n",
      "\n",
      "\n",
      "[CVODE ERROR]  CVode\n",
      "  tout too close to t0 to start integration.\n",
      "\n",
      "\n",
      "[CVODE ERROR]  CVode\n",
      "  tout too close to t0 to start integration.\n",
      "\n",
      "\n",
      "[CVODE ERROR]  CVode\n",
      "  tout too close to t0 to start integration.\n",
      "\n",
      "\n",
      "[CVODE ERROR]  CVode\n",
      "  tout too close to t0 to start integration.\n",
      "\n",
      "\n",
      "[CVODE ERROR]  CVode\n",
      "  At t = 0 and h = 1.63663e-10, the corrector convergence test failed repeatedly or with |h| = hmin.\n",
      "\n",
      "\n",
      "[CVODE ERROR]  CVode\n",
      "  tout too close to t0 to start integration.\n",
      "\n",
      "\n",
      "[CVODE ERROR]  CVode\n",
      "  tout too close to t0 to start integration.\n",
      "\n",
      "\n",
      "[CVODE ERROR]  CVode\n",
      "  tout too close to t0 to start integration.\n",
      "\n",
      "\n",
      "[CVODE ERROR]  CVode\n",
      "  tout too close to t0 to start integration.\n",
      "\n",
      "\n",
      "[CVODE ERROR]  CVode\n",
      "  tout too close to t0 to start integration.\n",
      "\n",
      "\n",
      "[CVODE ERROR]  CVode\n",
      "  tout too close to t0 to start integration.\n",
      "\n",
      "\n",
      "[CVODE ERROR]  CVode\n",
      "  tout too close to t0 to start integration.\n",
      "\n",
      "\n",
      "[CVODE ERROR]  CVode\n",
      "  tout too close to t0 to start integration.\n",
      "\n",
      "\n",
      "[CVODE ERROR]  CVode\n",
      "  tout too close to t0 to start integration.\n",
      "\n",
      "\n",
      "[CVODE ERROR]  CVode\n",
      "  tout too close to t0 to start integration.\n",
      "\n",
      "\n",
      "[CVODE ERROR]  CVode\n",
      "  At t = 0 and h = 8.18314e-11, the corrector convergence test failed repeatedly or with |h| = hmin.\n",
      "\n",
      "\n",
      "[CVODE ERROR]  CVode\n",
      "  tout too close to t0 to start integration.\n",
      "\n",
      "\n",
      "[CVODE ERROR]  CVode\n",
      "  tout too close to t0 to start integration.\n",
      "\n",
      "\n",
      "[CVODE ERROR]  CVode\n",
      "  tout too close to t0 to start integration.\n",
      "\n",
      "\n",
      "[CVODE ERROR]  CVode\n",
      "  tout too close to t0 to start integration.\n",
      "\n",
      "\n",
      "[CVODE ERROR]  CVode\n",
      "  tout too close to t0 to start integration.\n",
      "\n",
      "\n",
      "[CVODE ERROR]  CVode\n",
      "  tout too close to t0 to start integration.\n",
      "\n",
      "\n",
      "[CVODE ERROR]  CVode\n",
      "  tout too close to t0 to start integration.\n",
      "\n",
      "\n",
      "[CVODE ERROR]  CVode\n",
      "  tout too close to t0 to start integration.\n",
      "\n",
      "\n",
      "[CVODE ERROR]  CVode\n",
      "  tout too close to t0 to start integration.\n",
      "\n",
      "\n",
      "[CVODE ERROR]  CVode\n",
      "  tout too close to t0 to start integration.\n",
      "\n",
      "\n",
      "[CVODE ERROR]  CVode\n",
      "  At t = 0 and h = 4.09157e-11, the corrector convergence test failed repeatedly or with |h| = hmin.\n",
      "\n",
      "\n",
      "[CVODE ERROR]  CVode\n",
      "  tout too close to t0 to start integration.\n",
      "\n",
      "\n",
      "[CVODE ERROR]  CVode\n",
      "  tout too close to t0 to start integration.\n",
      "\n",
      "\n",
      "[CVODE ERROR]  CVode\n",
      "  tout too close to t0 to start integration.\n",
      "\n",
      "\n",
      "[CVODE ERROR]  CVode\n",
      "  tout too close to t0 to start integration.\n",
      "\n",
      "\n",
      "[CVODE ERROR]  CVode\n",
      "  tout too close to t0 to start integration.\n",
      "\n",
      "\n",
      "[CVODE ERROR]  CVode\n",
      "  tout too close to t0 to start integration.\n",
      "\n",
      "\n",
      "[CVODE ERROR]  CVode\n",
      "  tout too close to t0 to start integration.\n",
      "\n",
      "\n",
      "[CVODE ERROR]  CVode\n",
      "  tout too close to t0 to start integration.\n",
      "\n",
      "\n",
      "[CVODE ERROR]  CVode\n",
      "  tout too close to t0 to start integration.\n",
      "\n",
      "\n",
      "[CVODE ERROR]  CVode\n",
      "  tout too close to t0 to start integration.\n",
      "\n",
      "\n",
      "[CVODE ERROR]  CVode\n",
      "  At t = 0 and h = 2.04579e-11, the corrector convergence test failed repeatedly or with |h| = hmin.\n",
      "\n",
      "\n",
      "[CVODE ERROR]  CVode\n",
      "  tout too close to t0 to start integration.\n",
      "\n",
      "\n",
      "[CVODE ERROR]  CVode\n",
      "  tout too close to t0 to start integration.\n",
      "\n",
      "\n",
      "[CVODE ERROR]  CVode\n",
      "  tout too close to t0 to start integration.\n",
      "\n",
      "\n",
      "[CVODE ERROR]  CVode\n",
      "  tout too close to t0 to start integration.\n",
      "\n",
      "\n",
      "[CVODE ERROR]  CVode\n",
      "  tout too close to t0 to start integration.\n",
      "\n",
      "\n",
      "[CVODE ERROR]  CVode\n",
      "  tout too close to t0 to start integration.\n",
      "\n",
      "\n",
      "[CVODE ERROR]  CVode\n",
      "  tout too close to t0 to start integration.\n",
      "\n",
      "\n",
      "[CVODE ERROR]  CVode\n",
      "  tout too close to t0 to start integration.\n",
      "\n",
      "\n",
      "[CVODE ERROR]  CVode\n",
      "  tout too close to t0 to start integration.\n",
      "\n",
      "\n",
      "[CVODE ERROR]  CVode\n",
      "  tout too close to t0 to start integration.\n",
      "\n",
      "\n",
      "[CVODE ERROR]  CVode\n",
      "  At t = 0 and h = 1.02289e-11, the corrector convergence test failed repeatedly or with |h| = hmin.\n",
      "\n",
      "\n",
      "[CVODE ERROR]  CVode\n",
      "  tout too close to t0 to start integration.\n",
      "\n",
      "\n",
      "[CVODE ERROR]  CVode\n",
      "  tout too close to t0 to start integration.\n",
      "\n",
      "\n",
      "[CVODE ERROR]  CVode\n",
      "  tout too close to t0 to start integration.\n",
      "\n",
      "\n",
      "[CVODE ERROR]  CVode\n",
      "  tout too close to t0 to start integration.\n",
      "\n",
      "\n",
      "[CVODE ERROR]  CVode\n",
      "  tout too close to t0 to start integration.\n",
      "\n",
      "\n",
      "[CVODE ERROR]  CVode\n",
      "  tout too close to t0 to start integration.\n",
      "\n",
      "\n",
      "[CVODE ERROR]  CVode\n",
      "  tout too close to t0 to start integration.\n",
      "\n",
      "\n",
      "[CVODE ERROR]  CVode\n",
      "  tout too close to t0 to start integration.\n",
      "\n",
      "\n",
      "[CVODE ERROR]  CVode\n",
      "  tout too close to t0 to start integration.\n",
      "\n",
      "\n",
      "[CVODE ERROR]  CVode\n",
      "  tout too close to t0 to start integration.\n",
      "\n",
      "\n",
      "[CVODE ERROR]  CVode\n",
      "  At t = 0 and h = 5.11446e-12, the corrector convergence test failed repeatedly or with |h| = hmin.\n",
      "\n",
      "\n",
      "[CVODE ERROR]  CVode\n",
      "  tout too close to t0 to start integration.\n",
      "\n",
      "\n",
      "[CVODE ERROR]  CVode\n",
      "  tout too close to t0 to start integration.\n",
      "\n",
      "\n",
      "[CVODE ERROR]  CVode\n",
      "  tout too close to t0 to start integration.\n",
      "\n",
      "\n",
      "[CVODE ERROR]  CVode\n",
      "  tout too close to t0 to start integration.\n",
      "\n",
      "\n",
      "[CVODE ERROR]  CVode\n",
      "  tout too close to t0 to start integration.\n",
      "\n",
      "\n",
      "[CVODE ERROR]  CVode\n",
      "  tout too close to t0 to start integration.\n",
      "\n",
      "\n",
      "[CVODE ERROR]  CVode\n",
      "  tout too close to t0 to start integration.\n",
      "\n",
      "\n",
      "[CVODE ERROR]  CVode\n",
      "  tout too close to t0 to start integration.\n",
      "\n",
      "\n",
      "[CVODE ERROR]  CVode\n",
      "  tout too close to t0 to start integration.\n",
      "\n",
      "\n",
      "[CVODE ERROR]  CVode\n",
      "  tout too close to t0 to start integration.\n",
      "\n",
      "\n",
      "[CVODE ERROR]  CVode\n",
      "  At t = 0 and h = 2.55723e-12, the corrector convergence test failed repeatedly or with |h| = hmin.\n",
      "\n",
      "\n",
      "[CVODE ERROR]  CVode\n",
      "  tout too close to t0 to start integration.\n",
      "\n",
      "\n",
      "[CVODE ERROR]  CVode\n",
      "  tout too close to t0 to start integration.\n",
      "\n",
      "\n",
      "[CVODE ERROR]  CVode\n",
      "  tout too close to t0 to start integration.\n",
      "\n",
      "\n",
      "[CVODE ERROR]  CVode\n",
      "  tout too close to t0 to start integration.\n",
      "\n",
      "\n",
      "[CVODE ERROR]  CVode\n",
      "  tout too close to t0 to start integration.\n",
      "\n",
      "\n",
      "[CVODE ERROR]  CVode\n",
      "  tout too close to t0 to start integration.\n",
      "\n",
      "\n",
      "[CVODE ERROR]  CVode\n",
      "  tout too close to t0 to start integration.\n",
      "\n",
      "\n",
      "[CVODE ERROR]  CVode\n",
      "  tout too close to t0 to start integration.\n",
      "\n",
      "\n",
      "[CVODE ERROR]  CVode\n",
      "  tout too close to t0 to start integration.\n",
      "\n",
      "\n",
      "[CVODE ERROR]  CVode\n",
      "  tout too close to t0 to start integration.\n",
      "\n"
     ]
    },
    {
     "name": "stdout",
     "output_type": "stream",
     "text": [
      "End in 10 iterations: 0.00000e+00 / 1.00000e+02 (1.00000e+02)\n"
     ]
    },
    {
     "data": {
      "image/png": "[encoded data removed]",
      "text/plain": [
       "<Figure size 432x288 with 1 Axes>"
      ]
     },
     "metadata": {
      "filenames": {
       "image/png": "/mnt/gv0/homes/kwoksun2/dengo-merge/cookbook/_build/jupyter_execute/c_example_2_7.png"
      },
      "needs_background": "light"
     },
     "output_type": "display_data"
    }
   ],
   "source": [
    "\n",
    "import numpy as np\n",
    "from dengo.chemical_network import \\\n",
    "    ChemicalNetwork, \\\n",
    "    reaction_registry, \\\n",
    "    cooling_registry\n",
    "import dengo.umist_rates\n",
    "from dengo.get_rates import setup_umist_species, setup_umist_reactions\n",
    "from dengo.chemistry_constants import tiny, kboltz, mh\n",
    "\n",
    "import os\n",
    "os.environ['HDF5_DIR'] = '/home/kwoksun2/anaconda2/'\n",
    "\n",
    "NCELLS = 1\n",
    "density = 1.0e0\n",
    "temperature = np.logspace(1, 3, NCELLS)\n",
    "temperature[:] = 1e3\n",
    "X = 1e-2\n",
    "\n",
    "umist = ChemicalNetwork()\n",
    "umist.skip_weight += (\"us_e_0\",)\n",
    "\n",
    "# This defines the temperature range for the rate tables\n",
    "umist.init_temperature((1e0, 1e3))\n",
    "\n",
    "# Get UMIST rates for a bunch of species for an example network\n",
    "\n",
    "desired_species = [\n",
    "    (\"H\", 1),\n",
    "    (\"H2\", 2),\n",
    "    (\"e-\", 1)\n",
    "]\n",
    "added_species = set([])\n",
    "\n",
    "for name, weight in desired_species:\n",
    "    s, c, r = setup_umist_species(name, weight)\n",
    "    print(\"ADDED\", s)\n",
    "    added_species.update(s)\n",
    "    umist.add_collection(s, c, r)\n",
    "# Add ionic species by hand, since we need correct atomic weights\n",
    "\n",
    "s, c, r = setup_umist_reactions(added_species)\n",
    "umist.add_collection(s, c, r)\n",
    "\n",
    "tiny = 1e-10\n",
    "\n",
    "init_array = np.ones(NCELLS) * density\n",
    "init_values = dict()\n",
    "init_values['us_H_1']     = init_array * X\n",
    "init_values['us_H2_1']     = init_array * X\n",
    "init_values['us_e_0']      = init_array * 0.0\n",
    "\n",
    "print(init_values)\n",
    "#print sorted(umist.reactions.values())\n",
    "\n",
    "for species in umist.required_species:\n",
    "    if species.name not in init_values:\n",
    "        init_values[species.name] = init_array * 0.0\n",
    "\n",
    "total_density = umist.calculate_total_density(init_values)\n",
    "init_values = umist.convert_to_mass_density(init_values)\n",
    "init_values['us_e_0'] = umist.calculate_free_electrons(init_values)\n",
    "init_values['density'] = umist.calculate_total_density(init_values)\n",
    "number_density = umist.calculate_number_density(init_values)\n",
    "\n",
    "\n",
    "\n",
    "# set up initial temperatures values used to define ge\n",
    "init_values['T'] = temperature\n",
    "\n",
    "\n",
    "# calculate ge (very crudely, no H2 help here)\n",
    "gamma = 5.0/3.0\n",
    "init_values['ge'] = ((temperature * number_density * kboltz)\n",
    "                     / (init_values['density'] * mh * (gamma - 1)))\n",
    "\n",
    "print(init_values)\n",
    "\n",
    "\n",
    "# import pdb; pdb.set_trace()\n",
    "\n",
    "#import pdb; pdb.set_trace()\n",
    "\n",
    "# Write the initial conditions file\n",
    "umist.write_solver(\"umist\", output_dir = \".\", solver_template = \"cv_omp/sundials_CVDls\",ode_solver_source = \"initialize_cvode_solver.C\")\n",
    "\n",
    "\n",
    "import pyximport\n",
    "pyximport.install(setup_args={\"include_dirs\":np.get_include()},\n",
    "                  reload_support=True, inplace=True)\n",
    "\n",
    "umist_solver_run = pyximport.load_module(\"umist_solver_run\",\n",
    "                            \"umist_solver_run.pyx\",\n",
    "                            build_inplace = True, pyxbuild_dir = \"_dengo_temp\")\n",
    "rv, rv_int = umist_solver_run.run_umist(init_values, 1e2, niter = 1e1)\n",
    "\n",
    "import pylab\n",
    "pylab.clf()\n",
    "\n",
    "mask = rv_int['successful']\n",
    "for name in sorted(rv_int):\n",
    "    if len(rv_int[name].shape) == 1:\n",
    "        rv_int[name] = rv_int[name][mask]\n",
    "    else:\n",
    "        rv_int[name] = rv_int[name][0, mask]\n",
    "\n",
    "skip = ('successful', 'dt', 't', 'ge')\n",
    "for n, v in sorted(rv_int.items()):\n",
    "    if n in skip: continue\n",
    "    pylab.loglog(rv_int['t'], v, label = n)\n",
    "\n",
    "pylab.ylim(density * 1e-20, density * 10)\n",
    "pylab.xlabel(\"time [s]\")\n",
    "pylab.legend(loc='best', fontsize='xx-small')\n",
    "pylab.savefig(\"plot.png\")\n"
   ]
  },
  {
   "cell_type": "code",
   "execution_count": 3,
   "metadata": {},
   "outputs": [
    {
     "name": "stdout",
     "output_type": "stream",
     "text": [
      "umist_solver.C\r\n",
      "umist_solver.h\r\n",
      "umist_solver_main.C\r\n",
      "umist_solver_main.py\r\n",
      "umist_solver_run.cpython-38-x86_64-linux-gnu.so\r\n",
      "umist_solver_run.cpython-38-x86_64-linux-gnu.so.reload1\r\n",
      "umist_solver_run.pxd\r\n",
      "umist_solver_run.pyx\r\n",
      "umist_solver_run.pyxbld\r\n",
      "umist_solver_run.pyxdep\r\n",
      "umist_tables.h5\r\n"
     ]
    }
   ],
   "source": [
    "!ls umist*"
   ]
  },
  {
   "cell_type": "code",
   "execution_count": 4,
   "metadata": {},
   "outputs": [
    {
     "data": {
      "text/plain": [
       "'/mnt/gv0/homes/kwoksun2/dengo-merge/cookbook'"
      ]
     },
     "execution_count": 4,
     "metadata": {},
     "output_type": "execute_result"
    }
   ],
   "source": [
    "pwd"
   ]
  },
  {
   "cell_type": "code",
   "execution_count": 5,
   "metadata": {},
   "outputs": [],
   "source": [
    "umist.write_solver(\"umist\", output_dir = \".\", solver_template = \"cv_omp/sundials_CVDls\",ode_solver_source = \"initialize_cvode_solver.C\")\n"
   ]
  },
  {
   "cell_type": "code",
   "execution_count": 6,
   "metadata": {},
   "outputs": [
    {
     "data": {
      "text/plain": [
       "{}"
      ]
     },
     "execution_count": 6,
     "metadata": {},
     "output_type": "execute_result"
    }
   ],
   "source": [
    "umist.reactions"
   ]
  },
  {
   "cell_type": "code",
   "execution_count": 7,
   "metadata": {},
   "outputs": [],
   "source": [
    "setup_umist_reactions??"
   ]
  },
  {
   "cell_type": "code",
   "execution_count": 8,
   "metadata": {},
   "outputs": [
    {
     "data": {
      "text/plain": [
       "set()"
      ]
     },
     "execution_count": 8,
     "metadata": {},
     "output_type": "execute_result"
    }
   ],
   "source": [
    "s"
   ]
  },
  {
   "cell_type": "code",
   "execution_count": 9,
   "metadata": {},
   "outputs": [
    {
     "data": {
      "text/plain": [
       "set()"
      ]
     },
     "execution_count": 9,
     "metadata": {},
     "output_type": "execute_result"
    }
   ],
   "source": [
    "c"
   ]
  },
  {
   "cell_type": "code",
   "execution_count": 10,
   "metadata": {},
   "outputs": [
    {
     "data": {
      "text/plain": [
       "set()"
      ]
     },
     "execution_count": 10,
     "metadata": {},
     "output_type": "execute_result"
    }
   ],
   "source": [
    "r"
   ]
  },
  {
   "cell_type": "code",
   "execution_count": 11,
   "metadata": {},
   "outputs": [],
   "source": [
    "setup_umist_species??"
   ]
  },
  {
   "cell_type": "code",
   "execution_count": 12,
   "metadata": {},
   "outputs": [],
   "source": [
    "dengo.umist_rates??"
   ]
  },
  {
   "cell_type": "code",
   "execution_count": 31,
   "metadata": {},
   "outputs": [],
   "source": []
  },
  {
   "cell_type": "code",
   "execution_count": 13,
   "metadata": {},
   "outputs": [
    {
     "ename": "NameError",
     "evalue": "name 'x' is not defined",
     "output_type": "error",
     "traceback": [
      "\u001b[0;31m---------------------------------------------------------------------------\u001b[0m",
      "\u001b[0;31mNameError\u001b[0m                                 Traceback (most recent call last)",
      "Input \u001b[0;32mIn [13]\u001b[0m, in \u001b[0;36m<cell line: 1>\u001b[0;34m()\u001b[0m\n\u001b[0;32m----> 1\u001b[0m \u001b[43mx\u001b[49m\n",
      "\u001b[0;31mNameError\u001b[0m: name 'x' is not defined"
     ]
    }
   ],
   "source": [
    "x"
   ]
  },
  {
   "cell_type": "code",
   "execution_count": 23,
   "metadata": {},
   "outputs": [],
   "source": [
    "h_2 = AtomicSpecies(\"H\", 1)"
   ]
  },
  {
   "cell_type": "code",
   "execution_count": 25,
   "metadata": {},
   "outputs": [],
   "source": [
    "from dengo.umist_rates import umist_rates"
   ]
  },
  {
   "cell_type": "code",
   "execution_count": 30,
   "metadata": {},
   "outputs": [
    {
     "data": {
      "text/plain": [
       "{}"
      ]
     },
     "execution_count": 30,
     "metadata": {},
     "output_type": "execute_result"
    }
   ],
   "source": [
    "reaction_registry"
   ]
  },
  {
   "cell_type": "code",
   "execution_count": 28,
   "metadata": {},
   "outputs": [],
   "source": [
    "!cp ../dengo/RATE12.txt ."
   ]
  },
  {
   "cell_type": "code",
   "execution_count": 33,
   "metadata": {},
   "outputs": [],
   "source": [
    "with open(\"RATE12.txt\", \"r\") as f:\n",
    "    lines = f.readlines()\n",
    "    f.close()"
   ]
  },
  {
   "cell_type": "code",
   "execution_count": 40,
   "metadata": {},
   "outputs": [
    {
     "name": "stdout",
     "output_type": "stream",
     "text": [
      "['C-', 'C', 'C2', 'e-']\n"
     ]
    }
   ],
   "source": [
    "import re\n",
    "for i, line in enumerate(lines):\n",
    "    reaction = re.split(\":\", line)\n",
    "    print(reaction[2:6])\n",
    "    break"
   ]
  },
  {
   "cell_type": "code",
   "execution_count": 42,
   "metadata": {},
   "outputs": [],
   "source": [
    "C_m0 = AtomicSpecies(\"C\", -1)"
   ]
  },
  {
   "cell_type": "code",
   "execution_count": 45,
   "metadata": {},
   "outputs": [],
   "source": [
    "C_m0.name = 'C-'"
   ]
  },
  {
   "cell_type": "code",
   "execution_count": 46,
   "metadata": {},
   "outputs": [
    {
     "data": {
      "text/plain": [
       "Species: C-"
      ]
     },
     "execution_count": 46,
     "metadata": {},
     "output_type": "execute_result"
    }
   ],
   "source": [
    "C_m0"
   ]
  },
  {
   "cell_type": "code",
   "execution_count": 51,
   "metadata": {},
   "outputs": [],
   "source": [
    "#Check whether the species exists and if not, add to species registry\n",
    "from dengo.reaction_classes import ChemicalSpecies, species_registry, Reaction\n",
    "def _ensure_species(sp):\n",
    "    # \"us\" => \"umist species\"\n",
    "    sp = \"us_\" + sp\n",
    "    sp = sp.replace(\"+\", \"p\").replace(\"-\", \"m\")\n",
    "    if sp not in species_registry:\n",
    "        i = sp.count('p')-sp.count('m')\n",
    "        sp = ChemicalSpecies(sp,1.,1.,i)\n",
    "    else:\n",
    "        sp = species_registry[sp]\n",
    "    return sp\n",
    "\n",
    "type = reaction[1]\n",
    "rA = _ensure_species(reaction[2])\n",
    "rB = _ensure_species(reaction[3])\n",
    "pC = _ensure_species(reaction[4])\n",
    "pD = _ensure_species(reaction[5])"
   ]
  },
  {
   "cell_type": "code",
   "execution_count": 140,
   "metadata": {},
   "outputs": [],
   "source": [
    "import re\n",
    "\n",
    "def get_rate(reaction, network):\n",
    "    type = reaction[1]\n",
    "    rA = _ensure_species(reaction[2])\n",
    "    rB = _ensure_species(reaction[3])\n",
    "    pC = _ensure_species(reaction[4])\n",
    "    pD = _ensure_species(reaction[5])\n",
    "    a = float(reaction[9])\n",
    "    b = float(reaction[10])\n",
    "    g = float(reaction[11])\n",
    "    T_lower = int(reaction[12])\n",
    "    T_upper = int(reaction[13])\n",
    "    reactants = [(1, rA), (1, rB)]\n",
    "    products = [(1, pC), (1, pD)]\n",
    "    \n",
    "    print(reactants)\n",
    "    \n",
    "\n",
    "    temp = network.T\n",
    "\n",
    "    if reaction[6] != '':\n",
    "        pE = _ensure_species(reaction[6])\n",
    "        products.append((1,pE))\n",
    "\n",
    "    if reaction[7] != '':\n",
    "        pF = _ensure_species(reaction[7])\n",
    "        products.append((1,pF))\n",
    "\n",
    "    print(products)\n",
    "    print(T_lower, T_upper)\n",
    "    \n",
    "    if np.all(T_lower <= temp) and np.all(temp <= T_upper):\n",
    "        \n",
    "        if type == 'CP':\n",
    "            rate = lambda network: a # rate coefficient with units 1/s\n",
    "            units = \"1/s\"\n",
    "            #return rate, units\n",
    "        elif type == 'CR':\n",
    "            rate = 0.0\n",
    "            units = ''\n",
    "            #return rate, units\n",
    "        else:\n",
    "            rate = lambda network: a*(network.T**b)*(np.exp(-g / network.T)) # rate coefficient with units cm^3 / s\n",
    "            units = \"cm^3 / s\"\n",
    "            #return rate, units\n",
    "        return Reaction(\"%s_plus_%s\" % (rA.name, rB.name), rate, reactants, products)\n",
    "    else:\n",
    "        rate = 0\n",
    "        units = ''\n",
    "        return rate, units\n",
    "\n",
    "\n",
    "\n",
    "def umist_rates(species, network):\n",
    "    r1 = species.name\n",
    "    if r1.startswith(\"us_\"):\n",
    "        r1 = r1[3:]\n",
    "        r1 = r1.replace(\"p\", \"+\").replace(\"m\", \"-\")\n",
    "    with open(\"RATE12.txt\", \"r\") as f:\n",
    "        lines = f.readlines()\n",
    "        f.close()\n",
    "    \n",
    "    c = 0\n",
    "    for i,line in enumerate(lines):\n",
    "        reaction = re.split(\":\", line)\n",
    "        if (reaction[2]==r1 or reaction[3]==r1 or reaction[4]==r1 or reaction[5]==r1):\n",
    "            get_rate(reaction, network)\n",
    "            c += 1"
   ]
  },
  {
   "cell_type": "code",
   "execution_count": 141,
   "metadata": {},
   "outputs": [
    {
     "name": "stdout",
     "output_type": "stream",
     "text": [
      "[(1, Species: us_Cm), (1, Species: us_C)]\n",
      "[(1, Species: us_C2), (1, Species: us_em)]\n",
      "10 41000\n"
     ]
    },
    {
     "data": {
      "text/plain": [
       "us_Cm_plus_us_C : 1*us_Cm + 1*us_C => 1*us_C2 + 1*us_em"
      ]
     },
     "execution_count": 141,
     "metadata": {},
     "output_type": "execute_result"
    }
   ],
   "source": [
    "umist.init_temperature(T_bounds = (10, 40999.0) )\n",
    "get_rate(reaction, umist)"
   ]
  },
  {
   "cell_type": "code",
   "execution_count": 142,
   "metadata": {},
   "outputs": [
    {
     "name": "stdout",
     "output_type": "stream",
     "text": [
      "[(1, Species: us_Cm), (1, Species: us_C)]\n",
      "[(1, Species: us_C2), (1, Species: us_em)]\n",
      "10 41000\n",
      "[(1, Species: us_Cm), (1, Species: us_CH2)]\n",
      "[(1, Species: us_C2H2), (1, Species: us_em)]\n",
      "10 41000\n",
      "[(1, Species: us_Cm), (1, Species: us_CH)]\n",
      "[(1, Species: us_C2H), (1, Species: us_em)]\n",
      "10 41000\n",
      "[(1, Species: us_Cm), (1, Species: us_CO2)]\n",
      "[(1, Species: us_CO), (1, Species: us_CO), (1, Species: us_em)]\n",
      "10 41000\n",
      "[(1, Species: us_Cm), (1, Species: us_H2O)]\n",
      "[(1, Species: us_H2CO), (1, Species: us_em)]\n",
      "10 41000\n",
      "[(1, Species: us_Cm), (1, Species: us_N)]\n",
      "[(1, Species: us_CN), (1, Species: us_em)]\n",
      "10 41000\n",
      "[(1, Species: us_Cm), (1, Species: us_NH)]\n",
      "[(1, Species: us_HCN), (1, Species: us_em)]\n",
      "10 41000\n",
      "[(1, Species: us_Cm), (1, Species: us_O2)]\n",
      "[(1, Species: us_CO2), (1, Species: us_em)]\n",
      "10 41000\n",
      "[(1, Species: us_Cm), (1, Species: us_O)]\n",
      "[(1, Species: us_CO), (1, Species: us_em)]\n",
      "10 41000\n",
      "[(1, Species: us_Cm), (1, Species: us_OH)]\n",
      "[(1, Species: us_HCO), (1, Species: us_em)]\n",
      "10 41000\n",
      "[(1, Species: us_H2), (1, Species: us_Cm)]\n",
      "[(1, Species: us_CH2), (1, Species: us_em)]\n",
      "10 41000\n",
      "[(1, Species: us_H), (1, Species: us_Cm)]\n",
      "[(1, Species: us_CH), (1, Species: us_em)]\n",
      "10 41000\n",
      "[(1, Species: us_Cm), (1, Species: us_CRPHOT)]\n",
      "[(1, Species: us_C), (1, Species: us_em)]\n",
      "10 41000\n",
      "[(1, Species: us_Cm), (1, Species: us_NO)]\n",
      "[(1, Species: us_CNm), (1, Species: us_O)]\n",
      "10 41000\n",
      "[(1, Species: us_Cm), (1, Species: us_O2)]\n",
      "[(1, Species: us_CO), (1, Species: us_Om)]\n",
      "10 41000\n",
      "[(1, Species: us_O), (1, Species: us_C2m)]\n",
      "[(1, Species: us_Cm), (1, Species: us_CO)]\n",
      "10 300\n",
      "[(1, Species: us_Cm), (1, Species: us_Cp)]\n",
      "[(1, Species: us_C), (1, Species: us_C)]\n",
      "10 41000\n",
      "[(1, Species: us_Cm), (1, Species: us_C2H2p)]\n",
      "[(1, Species: us_C), (1, Species: us_C2H2)]\n",
      "10 41000\n",
      "[(1, Species: us_Cm), (1, Species: us_C2H3p)]\n",
      "[(1, Species: us_C), (1, Species: us_C2H3)]\n",
      "10 41000\n",
      "[(1, Species: us_Cm), (1, Species: us_C4H2p)]\n",
      "[(1, Species: us_C), (1, Species: us_HC4H)]\n",
      "10 41000\n",
      "[(1, Species: us_Cm), (1, Species: us_C4H3p)]\n",
      "[(1, Species: us_C), (1, Species: us_C4H3)]\n",
      "10 41000\n",
      "[(1, Species: us_Cm), (1, Species: us_C4Sp)]\n",
      "[(1, Species: us_C), (1, Species: us_C4S)]\n",
      "10 41000\n",
      "[(1, Species: us_Cm), (1, Species: us_CH2CCHp)]\n",
      "[(1, Species: us_C), (1, Species: us_CH2CCH)]\n",
      "10 41000\n",
      "[(1, Species: us_Cm), (1, Species: us_CH3p)]\n",
      "[(1, Species: us_C), (1, Species: us_CH3)]\n",
      "10 41000\n",
      "[(1, Species: us_Cm), (1, Species: us_CNCp)]\n",
      "[(1, Species: us_C), (1, Species: us_C2N)]\n",
      "10 41000\n",
      "[(1, Species: us_Cm), (1, Species: us_Fep)]\n",
      "[(1, Species: us_C), (1, Species: us_Fe)]\n",
      "10 41000\n",
      "[(1, Species: us_Cm), (1, Species: us_Hp)]\n",
      "[(1, Species: us_C), (1, Species: us_H)]\n",
      "10 41000\n",
      "[(1, Species: us_Cm), (1, Species: us_H2COp)]\n",
      "[(1, Species: us_C), (1, Species: us_H2CO)]\n",
      "10 41000\n",
      "[(1, Species: us_Cm), (1, Species: us_H2Sp)]\n",
      "[(1, Species: us_C), (1, Species: us_H2S)]\n",
      "10 41000\n",
      "[(1, Species: us_Cm), (1, Species: us_H3p)]\n",
      "[(1, Species: us_C), (1, Species: us_H2), (1, Species: us_H)]\n",
      "10 41000\n",
      "[(1, Species: us_Cm), (1, Species: us_H3Op)]\n",
      "[(1, Species: us_C), (1, Species: us_H), (1, Species: us_H2O)]\n",
      "10 41000\n",
      "[(1, Species: us_Cm), (1, Species: us_HC2Sp)]\n",
      "[(1, Species: us_C), (1, Species: us_C2S), (1, Species: us_H)]\n",
      "10 41000\n",
      "[(1, Species: us_Cm), (1, Species: us_HCNHp)]\n",
      "[(1, Species: us_C), (1, Species: us_HCN), (1, Species: us_H)]\n",
      "10 41000\n",
      "[(1, Species: us_Cm), (1, Species: us_HCNHp)]\n",
      "[(1, Species: us_C), (1, Species: us_HNC), (1, Species: us_H)]\n",
      "10 41000\n",
      "[(1, Species: us_Cm), (1, Species: us_HCOp)]\n",
      "[(1, Species: us_C), (1, Species: us_H), (1, Species: us_CO)]\n",
      "10 41000\n",
      "[(1, Species: us_Cm), (1, Species: us_HCOp)]\n",
      "[(1, Species: us_C), (1, Species: us_HCO)]\n",
      "10 41000\n",
      "[(1, Species: us_Cm), (1, Species: us_Hep)]\n",
      "[(1, Species: us_C), (1, Species: us_He)]\n",
      "10 41000\n",
      "[(1, Species: us_Cm), (1, Species: us_Mgp)]\n",
      "[(1, Species: us_C), (1, Species: us_Mg)]\n",
      "10 41000\n",
      "[(1, Species: us_Cm), (1, Species: us_Np)]\n",
      "[(1, Species: us_C), (1, Species: us_N)]\n",
      "10 41000\n",
      "[(1, Species: us_Cm), (1, Species: us_N2Hp)]\n",
      "[(1, Species: us_C), (1, Species: us_N2), (1, Species: us_H)]\n",
      "10 41000\n",
      "[(1, Species: us_Cm), (1, Species: us_NH3p)]\n",
      "[(1, Species: us_C), (1, Species: us_NH3)]\n",
      "10 41000\n",
      "[(1, Species: us_Cm), (1, Species: us_NH4p)]\n",
      "[(1, Species: us_C), (1, Species: us_NH3), (1, Species: us_H)]\n",
      "10 41000\n",
      "[(1, Species: us_Cm), (1, Species: us_NOp)]\n",
      "[(1, Species: us_C), (1, Species: us_NO)]\n",
      "10 41000\n",
      "[(1, Species: us_Cm), (1, Species: us_Nap)]\n",
      "[(1, Species: us_C), (1, Species: us_Na)]\n",
      "10 41000\n",
      "[(1, Species: us_Cm), (1, Species: us_Op)]\n",
      "[(1, Species: us_C), (1, Species: us_O)]\n",
      "10 41000\n",
      "[(1, Species: us_Cm), (1, Species: us_Sp)]\n",
      "[(1, Species: us_C), (1, Species: us_S)]\n",
      "10 41000\n",
      "[(1, Species: us_Cm), (1, Species: us_SOp)]\n",
      "[(1, Species: us_C), (1, Species: us_SO)]\n",
      "10 41000\n",
      "[(1, Species: us_Cm), (1, Species: us_Sip)]\n",
      "[(1, Species: us_C), (1, Species: us_Si)]\n",
      "10 41000\n",
      "[(1, Species: us_Cm), (1, Species: us_SiOp)]\n",
      "[(1, Species: us_C), (1, Species: us_SiO)]\n",
      "10 41000\n",
      "[(1, Species: us_Cm), (1, Species: us_SiOHp)]\n",
      "[(1, Species: us_C), (1, Species: us_SiO), (1, Species: us_H)]\n",
      "10 41000\n",
      "[(1, Species: us_Cm), (1, Species: us_SiSp)]\n",
      "[(1, Species: us_C), (1, Species: us_SiS)]\n",
      "10 41000\n",
      "[(1, Species: us_Cm), (1, Species: us_PHOTON)]\n",
      "[(1, Species: us_C), (1, Species: us_em)]\n",
      "10 41000\n",
      "[(1, Species: us_C), (1, Species: us_em)]\n",
      "[(1, Species: us_Cm), (1, Species: us_PHOTON)]\n",
      "10 1000\n"
     ]
    }
   ],
   "source": [
    "Cm = species_registry['us_Cm']\n",
    "x = umist_rates(Cm, umist)"
   ]
  },
  {
   "cell_type": "code",
   "execution_count": 143,
   "metadata": {},
   "outputs": [
    {
     "data": {
      "text/plain": [
       "{'us_Cm_plus_us_C': us_Cm_plus_us_C : 1*us_Cm + 1*us_C => 1*us_C2 + 1*us_em,\n",
       " 'us_Cm_plus_us_CH2': us_Cm_plus_us_CH2 : 1*us_Cm + 1*us_CH2 => 1*us_C2H2 + 1*us_em,\n",
       " 'us_Cm_plus_us_CH': us_Cm_plus_us_CH : 1*us_Cm + 1*us_CH => 1*us_C2H + 1*us_em,\n",
       " 'us_Cm_plus_us_CO2': us_Cm_plus_us_CO2 : 1*us_Cm + 1*us_CO2 => 1*us_CO + 1*us_CO + 1*us_em,\n",
       " 'us_Cm_plus_us_H2O': us_Cm_plus_us_H2O : 1*us_Cm + 1*us_H2O => 1*us_H2CO + 1*us_em,\n",
       " 'us_Cm_plus_us_N': us_Cm_plus_us_N : 1*us_Cm + 1*us_N => 1*us_CN + 1*us_em,\n",
       " 'us_Cm_plus_us_NH': us_Cm_plus_us_NH : 1*us_Cm + 1*us_NH => 1*us_HCN + 1*us_em,\n",
       " 'us_Cm_plus_us_O2': us_Cm_plus_us_O2 : 1*us_Cm + 1*us_O2 => 1*us_CO + 1*us_Om,\n",
       " 'us_Cm_plus_us_O': us_Cm_plus_us_O : 1*us_Cm + 1*us_O => 1*us_CO + 1*us_em,\n",
       " 'us_Cm_plus_us_OH': us_Cm_plus_us_OH : 1*us_Cm + 1*us_OH => 1*us_HCO + 1*us_em,\n",
       " 'us_H2_plus_us_Cm': us_H2_plus_us_Cm : 1*us_H2 + 1*us_Cm => 1*us_CH2 + 1*us_em,\n",
       " 'us_H_plus_us_Cm': us_H_plus_us_Cm : 1*us_H + 1*us_Cm => 1*us_CH + 1*us_em,\n",
       " 'us_Cm_plus_us_CRPHOT': us_Cm_plus_us_CRPHOT : 1*us_Cm + 1*us_CRPHOT => 1*us_C + 1*us_em,\n",
       " 'us_Cm_plus_us_NO': us_Cm_plus_us_NO : 1*us_Cm + 1*us_NO => 1*us_CNm + 1*us_O,\n",
       " 'us_Cm_plus_us_Cp': us_Cm_plus_us_Cp : 1*us_Cm + 1*us_Cp => 1*us_C + 1*us_C,\n",
       " 'us_Cm_plus_us_C2H2p': us_Cm_plus_us_C2H2p : 1*us_Cm + 1*us_C2H2p => 1*us_C + 1*us_C2H2,\n",
       " 'us_Cm_plus_us_C2H3p': us_Cm_plus_us_C2H3p : 1*us_Cm + 1*us_C2H3p => 1*us_C + 1*us_C2H3,\n",
       " 'us_Cm_plus_us_C4H2p': us_Cm_plus_us_C4H2p : 1*us_Cm + 1*us_C4H2p => 1*us_C + 1*us_HC4H,\n",
       " 'us_Cm_plus_us_C4H3p': us_Cm_plus_us_C4H3p : 1*us_Cm + 1*us_C4H3p => 1*us_C + 1*us_C4H3,\n",
       " 'us_Cm_plus_us_C4Sp': us_Cm_plus_us_C4Sp : 1*us_Cm + 1*us_C4Sp => 1*us_C + 1*us_C4S,\n",
       " 'us_Cm_plus_us_CH2CCHp': us_Cm_plus_us_CH2CCHp : 1*us_Cm + 1*us_CH2CCHp => 1*us_C + 1*us_CH2CCH,\n",
       " 'us_Cm_plus_us_CH3p': us_Cm_plus_us_CH3p : 1*us_Cm + 1*us_CH3p => 1*us_C + 1*us_CH3,\n",
       " 'us_Cm_plus_us_CNCp': us_Cm_plus_us_CNCp : 1*us_Cm + 1*us_CNCp => 1*us_C + 1*us_C2N,\n",
       " 'us_Cm_plus_us_Fep': us_Cm_plus_us_Fep : 1*us_Cm + 1*us_Fep => 1*us_C + 1*us_Fe,\n",
       " 'us_Cm_plus_us_Hp': us_Cm_plus_us_Hp : 1*us_Cm + 1*us_Hp => 1*us_C + 1*us_H,\n",
       " 'us_Cm_plus_us_H2COp': us_Cm_plus_us_H2COp : 1*us_Cm + 1*us_H2COp => 1*us_C + 1*us_H2CO,\n",
       " 'us_Cm_plus_us_H2Sp': us_Cm_plus_us_H2Sp : 1*us_Cm + 1*us_H2Sp => 1*us_C + 1*us_H2S,\n",
       " 'us_Cm_plus_us_H3p': us_Cm_plus_us_H3p : 1*us_Cm + 1*us_H3p => 1*us_C + 1*us_H2 + 1*us_H,\n",
       " 'us_Cm_plus_us_H3Op': us_Cm_plus_us_H3Op : 1*us_Cm + 1*us_H3Op => 1*us_C + 1*us_H + 1*us_H2O,\n",
       " 'us_Cm_plus_us_HC2Sp': us_Cm_plus_us_HC2Sp : 1*us_Cm + 1*us_HC2Sp => 1*us_C + 1*us_C2S + 1*us_H,\n",
       " 'us_Cm_plus_us_HCNHp': us_Cm_plus_us_HCNHp : 1*us_Cm + 1*us_HCNHp => 1*us_C + 1*us_HNC + 1*us_H,\n",
       " 'us_Cm_plus_us_HCOp': us_Cm_plus_us_HCOp : 1*us_Cm + 1*us_HCOp => 1*us_C + 1*us_HCO,\n",
       " 'us_Cm_plus_us_Hep': us_Cm_plus_us_Hep : 1*us_Cm + 1*us_Hep => 1*us_C + 1*us_He,\n",
       " 'us_Cm_plus_us_Mgp': us_Cm_plus_us_Mgp : 1*us_Cm + 1*us_Mgp => 1*us_C + 1*us_Mg,\n",
       " 'us_Cm_plus_us_Np': us_Cm_plus_us_Np : 1*us_Cm + 1*us_Np => 1*us_C + 1*us_N,\n",
       " 'us_Cm_plus_us_N2Hp': us_Cm_plus_us_N2Hp : 1*us_Cm + 1*us_N2Hp => 1*us_C + 1*us_N2 + 1*us_H,\n",
       " 'us_Cm_plus_us_NH3p': us_Cm_plus_us_NH3p : 1*us_Cm + 1*us_NH3p => 1*us_C + 1*us_NH3,\n",
       " 'us_Cm_plus_us_NH4p': us_Cm_plus_us_NH4p : 1*us_Cm + 1*us_NH4p => 1*us_C + 1*us_NH3 + 1*us_H,\n",
       " 'us_Cm_plus_us_NOp': us_Cm_plus_us_NOp : 1*us_Cm + 1*us_NOp => 1*us_C + 1*us_NO,\n",
       " 'us_Cm_plus_us_Nap': us_Cm_plus_us_Nap : 1*us_Cm + 1*us_Nap => 1*us_C + 1*us_Na,\n",
       " 'us_Cm_plus_us_Op': us_Cm_plus_us_Op : 1*us_Cm + 1*us_Op => 1*us_C + 1*us_O,\n",
       " 'us_Cm_plus_us_Sp': us_Cm_plus_us_Sp : 1*us_Cm + 1*us_Sp => 1*us_C + 1*us_S,\n",
       " 'us_Cm_plus_us_SOp': us_Cm_plus_us_SOp : 1*us_Cm + 1*us_SOp => 1*us_C + 1*us_SO,\n",
       " 'us_Cm_plus_us_Sip': us_Cm_plus_us_Sip : 1*us_Cm + 1*us_Sip => 1*us_C + 1*us_Si,\n",
       " 'us_Cm_plus_us_SiOp': us_Cm_plus_us_SiOp : 1*us_Cm + 1*us_SiOp => 1*us_C + 1*us_SiO,\n",
       " 'us_Cm_plus_us_SiOHp': us_Cm_plus_us_SiOHp : 1*us_Cm + 1*us_SiOHp => 1*us_C + 1*us_SiO + 1*us_H,\n",
       " 'us_Cm_plus_us_SiSp': us_Cm_plus_us_SiSp : 1*us_Cm + 1*us_SiSp => 1*us_C + 1*us_SiS,\n",
       " 'us_Cm_plus_us_PHOTON': us_Cm_plus_us_PHOTON : 1*us_Cm + 1*us_PHOTON => 1*us_C + 1*us_em}"
      ]
     },
     "execution_count": 143,
     "metadata": {},
     "output_type": "execute_result"
    }
   ],
   "source": [
    "reaction_registry"
   ]
  },
  {
   "cell_type": "code",
   "execution_count": 123,
   "metadata": {},
   "outputs": [],
   "source": [
    "hco = species_registry['us_HCO']"
   ]
  },
  {
   "cell_type": "code",
   "execution_count": 125,
   "metadata": {},
   "outputs": [
    {
     "data": {
      "text/plain": [
       "1.0"
      ]
     },
     "execution_count": 125,
     "metadata": {},
     "output_type": "execute_result"
    }
   ],
   "source": [
    "hco.weight"
   ]
  },
  {
   "cell_type": "code",
   "execution_count": 136,
   "metadata": {},
   "outputs": [],
   "source": [
    "hco.original_name = \"HCO2\""
   ]
  },
  {
   "cell_type": "code",
   "execution_count": 137,
   "metadata": {},
   "outputs": [],
   "source": [
    "hco.find_constituent()"
   ]
  },
  {
   "cell_type": "code",
   "execution_count": 138,
   "metadata": {},
   "outputs": [
    {
     "data": {
      "text/plain": [
       "\u001b[0;31mSignature:\u001b[0m \u001b[0mhco\u001b[0m\u001b[0;34m.\u001b[0m\u001b[0mfind_constituent\u001b[0m\u001b[0;34m(\u001b[0m\u001b[0;34m)\u001b[0m\u001b[0;34m\u001b[0m\u001b[0;34m\u001b[0m\u001b[0m\n",
       "\u001b[0;31mSource:\u001b[0m   \n",
       "    \u001b[0;32mdef\u001b[0m \u001b[0mfind_constituent\u001b[0m\u001b[0;34m(\u001b[0m\u001b[0mself\u001b[0m\u001b[0;34m)\u001b[0m\u001b[0;34m:\u001b[0m\u001b[0;34m\u001b[0m\n",
       "\u001b[0;34m\u001b[0m        \u001b[0;34m\"\"\"find elements based on its name\u001b[0m\n",
       "\u001b[0;34m        return: total weight\u001b[0m\n",
       "\u001b[0;34m        \"\"\"\u001b[0m\u001b[0;34m\u001b[0m\n",
       "\u001b[0;34m\u001b[0m        \u001b[0mself\u001b[0m\u001b[0;34m.\u001b[0m\u001b[0m_edict\u001b[0m \u001b[0;34m=\u001b[0m \u001b[0;34m{\u001b[0m\u001b[0;34m}\u001b[0m\u001b[0;34m\u001b[0m\n",
       "\u001b[0;34m\u001b[0m        \u001b[0mname\u001b[0m \u001b[0;34m=\u001b[0m \u001b[0mself\u001b[0m\u001b[0;34m.\u001b[0m\u001b[0moriginal_name\u001b[0m\u001b[0;34m\u001b[0m\n",
       "\u001b[0;34m\u001b[0m        \u001b[0msplit\u001b[0m \u001b[0;34m=\u001b[0m \u001b[0mre\u001b[0m\u001b[0;34m.\u001b[0m\u001b[0mfindall\u001b[0m\u001b[0;34m(\u001b[0m\u001b[0;34m\"\\d+|\\D+[a-z]|\\D\"\u001b[0m\u001b[0;34m,\u001b[0m \u001b[0mname\u001b[0m\u001b[0;34m)\u001b[0m\u001b[0;34m\u001b[0m\n",
       "\u001b[0;34m\u001b[0m        \u001b[0;32mfor\u001b[0m \u001b[0ms\u001b[0m \u001b[0;32min\u001b[0m \u001b[0msplit\u001b[0m\u001b[0;34m:\u001b[0m\u001b[0;34m\u001b[0m\n",
       "\u001b[0;34m\u001b[0m            \u001b[0;32mif\u001b[0m \u001b[0ms\u001b[0m\u001b[0;34m.\u001b[0m\u001b[0misalpha\u001b[0m\u001b[0;34m(\u001b[0m\u001b[0;34m)\u001b[0m\u001b[0;34m:\u001b[0m\u001b[0;34m\u001b[0m\n",
       "\u001b[0;34m\u001b[0m                \u001b[0m_ele\u001b[0m \u001b[0;34m=\u001b[0m \u001b[0ms\u001b[0m\u001b[0;34m\u001b[0m\n",
       "\u001b[0;34m\u001b[0m            \u001b[0;32mif\u001b[0m \u001b[0ms\u001b[0m\u001b[0;34m.\u001b[0m\u001b[0misnumeric\u001b[0m\u001b[0;34m(\u001b[0m\u001b[0;34m)\u001b[0m\u001b[0;34m:\u001b[0m\u001b[0;34m\u001b[0m\n",
       "\u001b[0;34m\u001b[0m                \u001b[0mself\u001b[0m\u001b[0;34m.\u001b[0m\u001b[0madd_to_dict\u001b[0m\u001b[0;34m(\u001b[0m\u001b[0m_ele\u001b[0m\u001b[0;34m,\u001b[0m \u001b[0mint\u001b[0m\u001b[0;34m(\u001b[0m\u001b[0ms\u001b[0m\u001b[0;34m)\u001b[0m\u001b[0;34m-\u001b[0m\u001b[0;36m1\u001b[0m\u001b[0;34m)\u001b[0m\u001b[0;34m\u001b[0m\n",
       "\u001b[0;34m\u001b[0m            \u001b[0;32melse\u001b[0m\u001b[0;34m:\u001b[0m\u001b[0;34m\u001b[0m\n",
       "\u001b[0;34m\u001b[0m                \u001b[0mself\u001b[0m\u001b[0;34m.\u001b[0m\u001b[0madd_to_dict\u001b[0m\u001b[0;34m(\u001b[0m\u001b[0m_ele\u001b[0m\u001b[0;34m,\u001b[0m \u001b[0;36m1\u001b[0m\u001b[0;34m)\u001b[0m\u001b[0;34m\u001b[0m\n",
       "\u001b[0;34m\u001b[0m        \u001b[0mself\u001b[0m\u001b[0;34m.\u001b[0m\u001b[0melements\u001b[0m \u001b[0;34m=\u001b[0m \u001b[0mself\u001b[0m\u001b[0;34m.\u001b[0m\u001b[0m_edict\u001b[0m\u001b[0;34m\u001b[0m\u001b[0;34m\u001b[0m\u001b[0m\n",
       "\u001b[0;31mFile:\u001b[0m      ~/dengo-merge/dengo/reaction_classes.py\n",
       "\u001b[0;31mType:\u001b[0m      method\n"
      ]
     },
     "metadata": {},
     "output_type": "display_data"
    }
   ],
   "source": [
    "hco.find_constituent??"
   ]
  },
  {
   "cell_type": "code",
   "execution_count": 139,
   "metadata": {},
   "outputs": [
    {
     "data": {
      "text/plain": [
       "{'H': 1, 'C': 1, 'O': 2}"
      ]
     },
     "execution_count": 139,
     "metadata": {},
     "output_type": "execute_result"
    }
   ],
   "source": [
    "hco.elements"
   ]
  },
  {
   "cell_type": "code",
   "execution_count": null,
   "metadata": {},
   "outputs": [],
   "source": []
  }
 ],
 "metadata": {
  "kernelspec": {
   "display_name": "Python 3 (ipykernel)",
   "language": "python",
   "name": "python3"
  },
  "language_info": {
   "codemirror_mode": {
    "name": "ipython",
    "version": 3
   },
   "file_extension": ".py",
   "mimetype": "text/x-python",
   "name": "python",
   "nbconvert_exporter": "python",
   "pygments_lexer": "ipython3",
   "version": "3.8.2"
  }
 },
 "nbformat": 4,
 "nbformat_minor": 4
}